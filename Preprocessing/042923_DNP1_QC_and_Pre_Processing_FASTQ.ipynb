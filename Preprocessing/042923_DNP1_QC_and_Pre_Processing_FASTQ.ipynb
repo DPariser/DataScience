{
  "nbformat": 4,
  "nbformat_minor": 0,
  "metadata": {
    "colab": {
      "provenance": [],
      "machine_shape": "hm",
      "include_colab_link": true
    },
    "kernelspec": {
      "name": "python3",
      "display_name": "Python 3"
    },
    "language_info": {
      "name": "python"
    },
    "accelerator": "GPU",
    "gpuClass": "standard"
  },
  "cells": [
    {
      "cell_type": "markdown",
      "metadata": {
        "id": "view-in-github",
        "colab_type": "text"
      },
      "source": [
        "<a href=\"https://colab.research.google.com/github/DPariser/DataScience/blob/main/Preprocessing/042923_DNP1_QC_and_Pre_Processing_FASTQ.ipynb\" target=\"_parent\"><img src=\"https://colab.research.google.com/assets/colab-badge.svg\" alt=\"Open In Colab\"/></a>"
      ]
    },
    {
      "cell_type": "markdown",
      "source": [
        "# Plese DO NOT RUN THIS\n",
        "## Re-running this will override the files existing in the google drive. Please use as a VIEW ONLY."
      ],
      "metadata": {
        "id": "oDL5bqwBJIgE"
      }
    },
    {
      "cell_type": "markdown",
      "source": [
        "# Setup Environment\n",
        "\n",
        "This Notebook is created fresh with nothing else installed explicitly besides what is shown. So we assume that if you follow the instruction exactly, it should run out of the box."
      ],
      "metadata": {
        "id": "oGtI6PQ3ZBeD"
      }
    },
    {
      "cell_type": "code",
      "execution_count": null,
      "metadata": {
        "id": "vYulgDUCh3il"
      },
      "outputs": [],
      "source": [
        "# This is  used to time the running of the notebook\n",
        "import time\n",
        "start_time = time.time()"
      ]
    },
    {
      "cell_type": "code",
      "source": [
        "# These packages are pre-installed on Google Colab, but are included here to simplify running this notebook locally\n",
        "%%capture\n",
        "!pip install matplotlib\n",
        "!pip install scikit-learn\n",
        "!pip install numpy\n",
        "!pip install scipy\n",
        "!pip install scanpy\n",
        "!pip install anndata\n",
        "!pip3 install leidenalg"
      ],
      "metadata": {
        "id": "5FmtakqDoNt-"
      },
      "execution_count": null,
      "outputs": []
    },
    {
      "cell_type": "code",
      "source": [
        "# Install packages for analysis and plotting\n",
        "from scipy.io import mmread\n",
        "from sklearn.decomposition import TruncatedSVD\n",
        "import numpy as np\n",
        "import matplotlib.pyplot as plt\n",
        "import matplotlib\n",
        "import os\n",
        "import scanpy as sc\n",
        "import anndata\n",
        "import pandas as pd\n",
        "import seaborn as sns\n",
        "\n",
        "from scipy.sparse import csr_matrix\n",
        "matplotlib.rcParams.update({'font.size': 22})\n",
        "%config InlineBackend.figure_format = 'retina'"
      ],
      "metadata": {
        "id": "qI2gKIkYYmbO"
      },
      "execution_count": null,
      "outputs": []
    },
    {
      "cell_type": "code",
      "source": [
        "%%time\n",
        "%%capture\n",
        "# `kb` is a wrapper for the kallisto and bustools program, and the kb-python package contains the kallisto and bustools executables.\n",
        "!pip install kb-python==0.24.1"
      ],
      "metadata": {
        "colab": {
          "base_uri": "https://localhost:8080/"
        },
        "id": "iQoeB8XfjZgX",
        "outputId": "a79c39ae-ea9c-4c6c-8f16-9c12c4c5f857"
      },
      "execution_count": null,
      "outputs": [
        {
          "output_type": "stream",
          "name": "stdout",
          "text": [
            "CPU times: user 26 ms, sys: 4.64 ms, total: 30.6 ms\n",
            "Wall time: 3.42 s\n"
          ]
        }
      ]
    },
    {
      "cell_type": "markdown",
      "source": [
        "## ❗**Connect to the Data**\n",
        "\n",
        "The data is stored on a shared location in Google Drive. Since many of the files are very large and thus it is not feasable to download them to a location and use them. One good way of dealing with this situation is to create a shortcut to your own Google Drive and point to the shortcut and use them just like they are your own files on Google Drive. Here is the instruction how to set this up.\n",
        "\n",
        "* Click on the link to the share location of the data.\n",
        "* Nevigate to the \"Data files\" folder.\n",
        "* Click on the \"Dropdown\" arrow right next to the breaksrumb on the top right.\n",
        "* Choose \"Add shortcut to Drive\".\n",
        "\n",
        "Now it should appear in your Google Drive as the \"Data files\" folder.\n",
        "You can now connect to your Google Drive and access the file.\n",
        "From this point on, we assume that you have the Google Drive setup this way.\n",
        "\n",
        "Let's mount the Google Drive:\n",
        "\n"
      ],
      "metadata": {
        "id": "mD0SrEINZiYW"
      }
    },
    {
      "cell_type": "code",
      "source": [
        "from google.colab import drive\n",
        "drive.mount('/content/drive')"
      ],
      "metadata": {
        "colab": {
          "base_uri": "https://localhost:8080/"
        },
        "id": "9jVVpWZu6iBI",
        "outputId": "bca0f7d0-00db-4e0b-946a-7560880765bb"
      },
      "execution_count": null,
      "outputs": [
        {
          "output_type": "stream",
          "name": "stdout",
          "text": [
            "Mounted at /content/drive\n"
          ]
        }
      ]
    },
    {
      "cell_type": "code",
      "source": [
        "# Google drive root\n",
        "gd_root = \"/content/drive/MyDrive/Pate_Lab/DNP/Bioinformatics\"\n",
        "\n",
        "# Data roots\n",
        "patient_root = f\"{gd_root}/H17_LungMk/Data_files/HRA001149/HRR339729\"\n",
        "lungmk_root = f\"{gd_root}/H17_LungMk/LungMk\"\n",
        "\n",
        "# Working directories\n",
        "patient_dir = f\"{patient_root}\"\n",
        "lungmk_dir = f\"{lungmk_root}\"\n",
        "\n",
        "# Create the directories if they don't exist\n",
        "!mkdir -p \"{patient_dir}\"\n",
        "!mkdir -p \"{lungmk_dir}\"\n",
        "\n",
        "# List the contents of the directories\n",
        "print(\"Contents of patient directory:\")\n",
        "!ls \"{patient_dir}\"\n",
        "print(\"\\nContents of LungMk directory:\")\n",
        "!ls \"{lungmk_dir}\""
      ],
      "metadata": {
        "id": "nzgOn66sZ78p",
        "colab": {
          "base_uri": "https://localhost:8080/"
        },
        "outputId": "d4ab38b9-a581-445d-bc93-25787377f18c"
      },
      "execution_count": null,
      "outputs": [
        {
          "output_type": "stream",
          "name": "stdout",
          "text": [
            "Contents of patient directory:\n",
            "10xv2_whitelist.txt\t\t HRR339729_r2.fastq.gz\toutput.bus\n",
            "counts_unfiltered\t\t HRR339729_sta.xml\toutput.unfiltered.bus\n",
            "filtered_normalized_counts.h5ad  inspect.json\t\trun_info.json\n",
            "HRR339729_f1.fastq.gz\t\t matrix.ec\t\ttranscripts.txt\n",
            "\n",
            "Contents of LungMk directory:\n",
            "10xv2_whitelist.txt  inspect.json\t    run_info.json\n",
            "counts_unfiltered    matrix.ec\t\t    t2g.txt\n",
            "GRCh38genome.idx     output.bus\t\t    transcripts.txt\n",
            "index.idx\t     output.unfiltered.bus  v1nm7lpnqz5syh8dyzdk2zs8bglncfib.gz\n"
          ]
        }
      ]
    },
    {
      "cell_type": "code",
      "source": [
        "# Check if the directories exist\n",
        "if os.path.exists(lungmk_dir):\n",
        "    print(f\"The directory {lungmk_dir} exists.\")\n",
        "else:\n",
        "    print(f\"The directory {lungmk_dir} does not exist.\")\n",
        "\n",
        "if os.path.exists(patient_dir):\n",
        "    print(f\"The directory {patient_dir} exists.\")\n",
        "else:\n",
        "    print(f\"The directory {patient_dir} does not exist.\")"
      ],
      "metadata": {
        "colab": {
          "base_uri": "https://localhost:8080/"
        },
        "id": "eljz9Pl8WwIO",
        "outputId": "4aa8bce5-e556-4e20-a01f-abcd128b6463"
      },
      "execution_count": null,
      "outputs": [
        {
          "output_type": "stream",
          "name": "stdout",
          "text": [
            "The directory /content/drive/MyDrive/Pate_Lab/DNP/Bioinformatics/H17_LungMk/LungMk exists.\n",
            "The directory /content/drive/MyDrive/Pate_Lab/DNP/Bioinformatics/H17_LungMk/Data_files/HRA001149/HRR339729 exists.\n"
          ]
        }
      ]
    },
    {
      "cell_type": "markdown",
      "source": [
        "# Quality Control\n",
        "\n",
        "## need to edit this for looping\n",
        "\n",
        "* https://colab.research.google.com/github/pachterlab/kallistobustools/blob/master/docs/tutorials/kb_getting_started/python/kb_intro_2_python.ipynb\n",
        "\n",
        "## Filtering cells based on count\n",
        "Preliminary counts were then used for downstream analysis. Quality control was applied to cells based on three metrics step by step: the total UMI counts, number of detected genes and proportion of mitochondrial gene counts per cell. Specifically, cells with less than 1500 UMI counts and 500 detected genes were filtered, as well as cells with more than 10% mitochondrial gene counts. \n",
        "\n",
        "## Remove potential doublets (double balloon effect)\n",
        "\n",
        "This is what the investigators did in the original paper:\n",
        "\n",
        "\n",
        "*   To remove potential doublets, for PBMC samples, cells with UMI counts above 25,000 and detected genes above 5,000 are filtered out. For other tissues, cells with UMI counts above 70,000 and detected genes above 7,500 are filtered out. Additionally, we applied Scrublet (Wolock et al., 2019 link text) to identify potential doublets. The doublet score for each single cell and the threshold based on the bimodal distribution was calculated using default parameters. The expected doublet rate was set to be 0.08, and cells predicted to be doublets or with doubletScore larger than 0.25 were filtered. After quality control, a total of 1,598,708 cells were remained.\n",
        "*   for now we will not be using onliy the PBMC filter methods applied to all tissues\n",
        "*  *We may revisit this later*\n",
        "\n",
        "## Normalize\n",
        "For normalization of UMI counts, the Scanpy package provides several normalization methods, including the Total Count Normalization (TCN) and Normalization by Logarithm (LogNormalize) methods, which are commonly used in single-cell RNA-seq analysis. Here, we first load the count matrix using Scanpy's read_text function. We then normalize the data using the normalize_total function, which scales the counts for each cell so that they have the same total count (in this case, 10,000). We then scale the data by cell-specific size factors using the scale function, and logarithmically transform the data using the log1p function."
      ],
      "metadata": {
        "id": "B0-TRTDjHFCa"
      }
    },
    {
      "cell_type": "code",
      "source": [
        "# Identify all the patients so we can loop through them in the cell below\n",
        "folder_path = \"/content/drive/MyDrive/Pate_Lab/DNP/Bioinformatics/H17_LungMk/Data_files/HRA001149\"\n",
        "\n",
        "# List the directories in the folder\n",
        "directories = [d for d in os.listdir(folder_path) if os.path.isdir(os.path.join(folder_path, d))]\n",
        "\n",
        "# Print the directories\n",
        "print(directories)\n",
        "\n",
        "# Use the directories as patient_ids\n",
        "patient_ids = directories\n",
        "\n",
        "for patient_id in patient_ids:\n",
        "    patient_root = f\"{folder_path}/{patient_id}\"\n",
        "    patient_dir = f\"{patient_root}\"\n",
        "    \n",
        "    # Create the directory if it doesn't exist\n",
        "    !mkdir -p \"{patient_dir}\"\n",
        "    \n",
        "    # Check if the directory exists\n",
        "    if os.path.exists(patient_dir):\n",
        "        print(f\"The directory {patient_dir} exists.\")\n",
        "    else:\n",
        "        print(f\"The directory {patient_dir} does not exist.\")\n",
        "        \n",
        "# Function to filter and normalize the data based on the given criteria\n",
        "def filter_and_normalize_data(patient_dir):\n",
        "    try:\n",
        "        adata = sc.read_mtx(f\"{patient_dir}/counts_unfiltered/cells_x_genes.mtx\")\n",
        "        adata.var_names = pd.read_csv(f\"{patient_dir}/counts_unfiltered/cells_x_genes.genes.txt\", header=None, sep='\\t')[0]\n",
        "        adata.obs_names = pd.read_csv(f\"{patient_dir}/counts_unfiltered/cells_x_genes.barcodes.txt\", header=None)[0]\n",
        "    except FileNotFoundError:\n",
        "        print(f\"File not found error encountered for patient data in {patient_dir}. Skipping.\")\n",
        "        return\n",
        "    \n",
        "    print(f\"Initial number of cells: {adata.shape[0]}, Initial number of genes: {adata.shape[1]}\")\n",
        "    \n",
        "    # Filter cells based on total UMI counts, number of detected genes, and proportion of mitochondrial gene counts per cell\n",
        "    sc.pp.filter_cells(adata, min_counts=1500)\n",
        "    sc.pp.filter_cells(adata, min_genes=500)\n",
        "    mito_genes = adata.var_names.str.startswith('MT-')\n",
        "    adata.obs['percent_mito'] = np.sum(adata[:, mito_genes].X, axis=1).A1 / np.sum(adata.X, axis=1).A1\n",
        "    adata = adata[adata.obs['percent_mito'] < 0.1, :]\n",
        "    \n",
        "    print(f\"Number of cells after filtering by UMI counts, detected genes, and mitochondrial gene counts: {adata.shape[0]}\")\n",
        "    \n",
        "    # Filter cells based on potential doublets\n",
        "    sc.pp.filter_cells(adata, max_counts=25000)\n",
        "    sc.pp.filter_cells(adata, max_genes=5000)\n",
        "    \n",
        "    print(f\"Number of cells after filtering by potential doublets: {adata.shape[0]}\")\n",
        "    \n",
        "    if adata.shape[0] == 0:\n",
        "        print(f\"No cells remaining after filtering for patient data in {patient_dir}. Skipping.\")\n",
        "        return\n",
        "    \n",
        "    try:\n",
        "        # Normalize the data using Total Count Normalization (TCN) method\n",
        "        sc.pp.normalize_total(adata, target_sum=1e4)\n",
        "\n",
        "        # Logarithmically transform the data\n",
        "        sc.pp.log1p(adata)\n",
        "\n",
        "        # Scale the data by cell-specific size factors\n",
        "        sc.pp.scale(adata)\n",
        "\n",
        "    except ZeroDivisionError:\n",
        "        print(f\"ZeroDivisionError encountered for patient data in {patient_dir}. Skipping.\")\n",
        "        return\n",
        "    \n",
        "    # Calculate the remaining number of cells after filtering\n",
        "    num_cells = adata.shape[0]\n",
        "    print(f\"Number of cells remaining after filtering: {num_cells}\")\n",
        "\n",
        "    # Save the filtered and normalized data in the patient's original folder\n",
        "    adata.write(f\"{patient_dir}/filtered_normalized_counts.h5ad\")\n",
        "\n",
        "# Loop through each patient and filter and normalize the data\n",
        "for patient_id in patient_ids:\n",
        "    patient_root = f\"{folder_path}/{patient_id}\"\n",
        "    print(f\"Processing patient {patient_id}\")\n",
        "\n",
        "    # Check if the filtered and normalized counts file already exists\n",
        "    filtered_normalized_counts_file = f\"{patient_root}/filtered_normalized_counts.h5ad\"\n",
        "    if os.path.exists(filtered_normalized_counts_file):\n",
        "        print(f\"Filtered and normalized counts file for patient {patient_id} already exists. Skipping.\")\n",
        "        continue\n",
        "\n",
        "    # If the filtered and normalized counts file doesn't exist, process, filter and normalize the data\n",
        "    filter_and_normalize_data(patient_root)"
      ],
      "metadata": {
        "id": "_JKOb_v8kCpG",
        "colab": {
          "base_uri": "https://localhost:8080/"
        },
        "outputId": "d6af042c-45a4-45bc-c2c6-bb8c72784e2f"
      },
      "execution_count": null,
      "outputs": [
        {
          "output_type": "stream",
          "name": "stdout",
          "text": [
            "['HRR339728', 'HRR339729', 'HRR339730', 'HRR339731', 'HRR339732', 'HRR339733', 'HRR339734', 'HRR339735', 'HRR339736', 'HRR339737', 'HRR339738', 'HRR339740', 'HRR339739', 'HRR339741', 'HRR339743', 'HRR339748', 'HRR339753', 'HRR339751', 'HRR339752', 'HRR339755', 'HRR339756', 'HRR339754', 'HRR339749', 'HRR339750', 'HRR339742', 'HRR339746', 'HRR339747', 'HRR339744', 'HRR339759', 'HRR339757', 'HRR339761', 'HRR339760', 'HRR339762', 'HRR339765', 'HRR339764', 'HRR339763', 'HRR339770', 'HRR339769', 'HRR339771', 'HRR339772', 'HRR339775', 'HRR339777', 'HRR339774', 'HRR339776', 'HRR339773', 'HRR339778', 'HRR339781 (2)', 'HRR339782 (2)', 'HRR339783 (2)', 'HRR339784 (1)', 'HRR339786 (1)', 'HRR339785 (1)', 'HRR339786', 'HRR339787', 'HRR339795', 'HRR339766', 'HRR339767', 'HRR339768', 'HRR339790', 'HRR339791', 'HRR339792', 'HRR339789', 'HRR339788', 'HRR339758', 'HRR339794', 'HRR339793', 'HRR339805', 'HRR339801', 'HRR339802', 'HRR339799', 'HRR339804', 'HRR339803', 'HRR339798', 'HRR339797', 'HRR339796', 'HRR339800', 'HRR339808', 'HRR339806', 'HRR339815', 'HRR339812', 'HRR339811', 'HRR339814', 'HRR339807', 'HRR339813', 'HRR339810', 'HRR339809', 'HRR339816', 'HRR339824', 'HRR339821', 'HRR339823', 'HRR339822', 'HRR339817', 'HRR339819', 'HRR339820', 'HRR339825', 'HRR339818', 'HRR339830', 'HRR339834', 'HRR339832', 'HRR339835', 'HRR339833', 'HRR339829', 'HRR339828', 'HRR339826', 'HRR339831', 'HRR339827', 'HRR339842', 'HRR339840', 'HRR339837', 'HRR339838', 'HRR339839', 'HRR339836', 'HRR339843', 'HRR339844', 'HRR339841', 'HRR339846', 'HRR339845', 'HRR339847', 'HRR339848', 'HRR339849', 'HRR339782 (1)', 'HRR339783 (1)', 'HRR339781 (1)', 'HRR339745', 'HRR339779', 'HRR339780', 'HRR339785', 'HRR339783', 'HRR339781', 'HRR339784', 'HRR339782']\n",
            "The directory /content/drive/MyDrive/Pate_Lab/DNP/Bioinformatics/H17_LungMk/Data_files/HRA001149/HRR339728 exists.\n",
            "The directory /content/drive/MyDrive/Pate_Lab/DNP/Bioinformatics/H17_LungMk/Data_files/HRA001149/HRR339729 exists.\n",
            "The directory /content/drive/MyDrive/Pate_Lab/DNP/Bioinformatics/H17_LungMk/Data_files/HRA001149/HRR339730 exists.\n",
            "The directory /content/drive/MyDrive/Pate_Lab/DNP/Bioinformatics/H17_LungMk/Data_files/HRA001149/HRR339731 exists.\n",
            "The directory /content/drive/MyDrive/Pate_Lab/DNP/Bioinformatics/H17_LungMk/Data_files/HRA001149/HRR339732 exists.\n",
            "The directory /content/drive/MyDrive/Pate_Lab/DNP/Bioinformatics/H17_LungMk/Data_files/HRA001149/HRR339733 exists.\n",
            "The directory /content/drive/MyDrive/Pate_Lab/DNP/Bioinformatics/H17_LungMk/Data_files/HRA001149/HRR339734 exists.\n",
            "The directory /content/drive/MyDrive/Pate_Lab/DNP/Bioinformatics/H17_LungMk/Data_files/HRA001149/HRR339735 exists.\n",
            "The directory /content/drive/MyDrive/Pate_Lab/DNP/Bioinformatics/H17_LungMk/Data_files/HRA001149/HRR339736 exists.\n",
            "The directory /content/drive/MyDrive/Pate_Lab/DNP/Bioinformatics/H17_LungMk/Data_files/HRA001149/HRR339737 exists.\n",
            "The directory /content/drive/MyDrive/Pate_Lab/DNP/Bioinformatics/H17_LungMk/Data_files/HRA001149/HRR339738 exists.\n",
            "The directory /content/drive/MyDrive/Pate_Lab/DNP/Bioinformatics/H17_LungMk/Data_files/HRA001149/HRR339740 exists.\n",
            "The directory /content/drive/MyDrive/Pate_Lab/DNP/Bioinformatics/H17_LungMk/Data_files/HRA001149/HRR339739 exists.\n",
            "The directory /content/drive/MyDrive/Pate_Lab/DNP/Bioinformatics/H17_LungMk/Data_files/HRA001149/HRR339741 exists.\n",
            "The directory /content/drive/MyDrive/Pate_Lab/DNP/Bioinformatics/H17_LungMk/Data_files/HRA001149/HRR339743 exists.\n",
            "The directory /content/drive/MyDrive/Pate_Lab/DNP/Bioinformatics/H17_LungMk/Data_files/HRA001149/HRR339748 exists.\n",
            "The directory /content/drive/MyDrive/Pate_Lab/DNP/Bioinformatics/H17_LungMk/Data_files/HRA001149/HRR339753 exists.\n",
            "The directory /content/drive/MyDrive/Pate_Lab/DNP/Bioinformatics/H17_LungMk/Data_files/HRA001149/HRR339751 exists.\n",
            "The directory /content/drive/MyDrive/Pate_Lab/DNP/Bioinformatics/H17_LungMk/Data_files/HRA001149/HRR339752 exists.\n",
            "The directory /content/drive/MyDrive/Pate_Lab/DNP/Bioinformatics/H17_LungMk/Data_files/HRA001149/HRR339755 exists.\n",
            "The directory /content/drive/MyDrive/Pate_Lab/DNP/Bioinformatics/H17_LungMk/Data_files/HRA001149/HRR339756 exists.\n",
            "The directory /content/drive/MyDrive/Pate_Lab/DNP/Bioinformatics/H17_LungMk/Data_files/HRA001149/HRR339754 exists.\n",
            "The directory /content/drive/MyDrive/Pate_Lab/DNP/Bioinformatics/H17_LungMk/Data_files/HRA001149/HRR339749 exists.\n",
            "The directory /content/drive/MyDrive/Pate_Lab/DNP/Bioinformatics/H17_LungMk/Data_files/HRA001149/HRR339750 exists.\n",
            "The directory /content/drive/MyDrive/Pate_Lab/DNP/Bioinformatics/H17_LungMk/Data_files/HRA001149/HRR339742 exists.\n",
            "The directory /content/drive/MyDrive/Pate_Lab/DNP/Bioinformatics/H17_LungMk/Data_files/HRA001149/HRR339746 exists.\n",
            "The directory /content/drive/MyDrive/Pate_Lab/DNP/Bioinformatics/H17_LungMk/Data_files/HRA001149/HRR339747 exists.\n",
            "The directory /content/drive/MyDrive/Pate_Lab/DNP/Bioinformatics/H17_LungMk/Data_files/HRA001149/HRR339744 exists.\n",
            "The directory /content/drive/MyDrive/Pate_Lab/DNP/Bioinformatics/H17_LungMk/Data_files/HRA001149/HRR339759 exists.\n",
            "The directory /content/drive/MyDrive/Pate_Lab/DNP/Bioinformatics/H17_LungMk/Data_files/HRA001149/HRR339757 exists.\n",
            "The directory /content/drive/MyDrive/Pate_Lab/DNP/Bioinformatics/H17_LungMk/Data_files/HRA001149/HRR339761 exists.\n",
            "The directory /content/drive/MyDrive/Pate_Lab/DNP/Bioinformatics/H17_LungMk/Data_files/HRA001149/HRR339760 exists.\n",
            "The directory /content/drive/MyDrive/Pate_Lab/DNP/Bioinformatics/H17_LungMk/Data_files/HRA001149/HRR339762 exists.\n",
            "The directory /content/drive/MyDrive/Pate_Lab/DNP/Bioinformatics/H17_LungMk/Data_files/HRA001149/HRR339765 exists.\n",
            "The directory /content/drive/MyDrive/Pate_Lab/DNP/Bioinformatics/H17_LungMk/Data_files/HRA001149/HRR339764 exists.\n",
            "The directory /content/drive/MyDrive/Pate_Lab/DNP/Bioinformatics/H17_LungMk/Data_files/HRA001149/HRR339763 exists.\n",
            "The directory /content/drive/MyDrive/Pate_Lab/DNP/Bioinformatics/H17_LungMk/Data_files/HRA001149/HRR339770 exists.\n",
            "The directory /content/drive/MyDrive/Pate_Lab/DNP/Bioinformatics/H17_LungMk/Data_files/HRA001149/HRR339769 exists.\n",
            "The directory /content/drive/MyDrive/Pate_Lab/DNP/Bioinformatics/H17_LungMk/Data_files/HRA001149/HRR339771 exists.\n",
            "The directory /content/drive/MyDrive/Pate_Lab/DNP/Bioinformatics/H17_LungMk/Data_files/HRA001149/HRR339772 exists.\n",
            "The directory /content/drive/MyDrive/Pate_Lab/DNP/Bioinformatics/H17_LungMk/Data_files/HRA001149/HRR339775 exists.\n",
            "The directory /content/drive/MyDrive/Pate_Lab/DNP/Bioinformatics/H17_LungMk/Data_files/HRA001149/HRR339777 exists.\n",
            "The directory /content/drive/MyDrive/Pate_Lab/DNP/Bioinformatics/H17_LungMk/Data_files/HRA001149/HRR339774 exists.\n",
            "The directory /content/drive/MyDrive/Pate_Lab/DNP/Bioinformatics/H17_LungMk/Data_files/HRA001149/HRR339776 exists.\n",
            "The directory /content/drive/MyDrive/Pate_Lab/DNP/Bioinformatics/H17_LungMk/Data_files/HRA001149/HRR339773 exists.\n",
            "The directory /content/drive/MyDrive/Pate_Lab/DNP/Bioinformatics/H17_LungMk/Data_files/HRA001149/HRR339778 exists.\n",
            "The directory /content/drive/MyDrive/Pate_Lab/DNP/Bioinformatics/H17_LungMk/Data_files/HRA001149/HRR339781 (2) exists.\n",
            "The directory /content/drive/MyDrive/Pate_Lab/DNP/Bioinformatics/H17_LungMk/Data_files/HRA001149/HRR339782 (2) exists.\n",
            "The directory /content/drive/MyDrive/Pate_Lab/DNP/Bioinformatics/H17_LungMk/Data_files/HRA001149/HRR339783 (2) exists.\n",
            "The directory /content/drive/MyDrive/Pate_Lab/DNP/Bioinformatics/H17_LungMk/Data_files/HRA001149/HRR339784 (1) exists.\n",
            "The directory /content/drive/MyDrive/Pate_Lab/DNP/Bioinformatics/H17_LungMk/Data_files/HRA001149/HRR339786 (1) exists.\n",
            "The directory /content/drive/MyDrive/Pate_Lab/DNP/Bioinformatics/H17_LungMk/Data_files/HRA001149/HRR339785 (1) exists.\n",
            "The directory /content/drive/MyDrive/Pate_Lab/DNP/Bioinformatics/H17_LungMk/Data_files/HRA001149/HRR339786 exists.\n",
            "The directory /content/drive/MyDrive/Pate_Lab/DNP/Bioinformatics/H17_LungMk/Data_files/HRA001149/HRR339787 exists.\n",
            "The directory /content/drive/MyDrive/Pate_Lab/DNP/Bioinformatics/H17_LungMk/Data_files/HRA001149/HRR339795 exists.\n",
            "The directory /content/drive/MyDrive/Pate_Lab/DNP/Bioinformatics/H17_LungMk/Data_files/HRA001149/HRR339766 exists.\n",
            "The directory /content/drive/MyDrive/Pate_Lab/DNP/Bioinformatics/H17_LungMk/Data_files/HRA001149/HRR339767 exists.\n",
            "The directory /content/drive/MyDrive/Pate_Lab/DNP/Bioinformatics/H17_LungMk/Data_files/HRA001149/HRR339768 exists.\n",
            "The directory /content/drive/MyDrive/Pate_Lab/DNP/Bioinformatics/H17_LungMk/Data_files/HRA001149/HRR339790 exists.\n",
            "The directory /content/drive/MyDrive/Pate_Lab/DNP/Bioinformatics/H17_LungMk/Data_files/HRA001149/HRR339791 exists.\n",
            "The directory /content/drive/MyDrive/Pate_Lab/DNP/Bioinformatics/H17_LungMk/Data_files/HRA001149/HRR339792 exists.\n",
            "The directory /content/drive/MyDrive/Pate_Lab/DNP/Bioinformatics/H17_LungMk/Data_files/HRA001149/HRR339789 exists.\n",
            "The directory /content/drive/MyDrive/Pate_Lab/DNP/Bioinformatics/H17_LungMk/Data_files/HRA001149/HRR339788 exists.\n",
            "The directory /content/drive/MyDrive/Pate_Lab/DNP/Bioinformatics/H17_LungMk/Data_files/HRA001149/HRR339758 exists.\n",
            "The directory /content/drive/MyDrive/Pate_Lab/DNP/Bioinformatics/H17_LungMk/Data_files/HRA001149/HRR339794 exists.\n",
            "The directory /content/drive/MyDrive/Pate_Lab/DNP/Bioinformatics/H17_LungMk/Data_files/HRA001149/HRR339793 exists.\n",
            "The directory /content/drive/MyDrive/Pate_Lab/DNP/Bioinformatics/H17_LungMk/Data_files/HRA001149/HRR339805 exists.\n",
            "The directory /content/drive/MyDrive/Pate_Lab/DNP/Bioinformatics/H17_LungMk/Data_files/HRA001149/HRR339801 exists.\n",
            "The directory /content/drive/MyDrive/Pate_Lab/DNP/Bioinformatics/H17_LungMk/Data_files/HRA001149/HRR339802 exists.\n",
            "The directory /content/drive/MyDrive/Pate_Lab/DNP/Bioinformatics/H17_LungMk/Data_files/HRA001149/HRR339799 exists.\n",
            "The directory /content/drive/MyDrive/Pate_Lab/DNP/Bioinformatics/H17_LungMk/Data_files/HRA001149/HRR339804 exists.\n",
            "The directory /content/drive/MyDrive/Pate_Lab/DNP/Bioinformatics/H17_LungMk/Data_files/HRA001149/HRR339803 exists.\n",
            "The directory /content/drive/MyDrive/Pate_Lab/DNP/Bioinformatics/H17_LungMk/Data_files/HRA001149/HRR339798 exists.\n",
            "The directory /content/drive/MyDrive/Pate_Lab/DNP/Bioinformatics/H17_LungMk/Data_files/HRA001149/HRR339797 exists.\n",
            "The directory /content/drive/MyDrive/Pate_Lab/DNP/Bioinformatics/H17_LungMk/Data_files/HRA001149/HRR339796 exists.\n",
            "The directory /content/drive/MyDrive/Pate_Lab/DNP/Bioinformatics/H17_LungMk/Data_files/HRA001149/HRR339800 exists.\n",
            "The directory /content/drive/MyDrive/Pate_Lab/DNP/Bioinformatics/H17_LungMk/Data_files/HRA001149/HRR339808 exists.\n",
            "The directory /content/drive/MyDrive/Pate_Lab/DNP/Bioinformatics/H17_LungMk/Data_files/HRA001149/HRR339806 exists.\n",
            "The directory /content/drive/MyDrive/Pate_Lab/DNP/Bioinformatics/H17_LungMk/Data_files/HRA001149/HRR339815 exists.\n",
            "The directory /content/drive/MyDrive/Pate_Lab/DNP/Bioinformatics/H17_LungMk/Data_files/HRA001149/HRR339812 exists.\n",
            "The directory /content/drive/MyDrive/Pate_Lab/DNP/Bioinformatics/H17_LungMk/Data_files/HRA001149/HRR339811 exists.\n",
            "The directory /content/drive/MyDrive/Pate_Lab/DNP/Bioinformatics/H17_LungMk/Data_files/HRA001149/HRR339814 exists.\n",
            "The directory /content/drive/MyDrive/Pate_Lab/DNP/Bioinformatics/H17_LungMk/Data_files/HRA001149/HRR339807 exists.\n",
            "The directory /content/drive/MyDrive/Pate_Lab/DNP/Bioinformatics/H17_LungMk/Data_files/HRA001149/HRR339813 exists.\n",
            "The directory /content/drive/MyDrive/Pate_Lab/DNP/Bioinformatics/H17_LungMk/Data_files/HRA001149/HRR339810 exists.\n",
            "The directory /content/drive/MyDrive/Pate_Lab/DNP/Bioinformatics/H17_LungMk/Data_files/HRA001149/HRR339809 exists.\n",
            "The directory /content/drive/MyDrive/Pate_Lab/DNP/Bioinformatics/H17_LungMk/Data_files/HRA001149/HRR339816 exists.\n",
            "The directory /content/drive/MyDrive/Pate_Lab/DNP/Bioinformatics/H17_LungMk/Data_files/HRA001149/HRR339824 exists.\n",
            "The directory /content/drive/MyDrive/Pate_Lab/DNP/Bioinformatics/H17_LungMk/Data_files/HRA001149/HRR339821 exists.\n",
            "The directory /content/drive/MyDrive/Pate_Lab/DNP/Bioinformatics/H17_LungMk/Data_files/HRA001149/HRR339823 exists.\n",
            "The directory /content/drive/MyDrive/Pate_Lab/DNP/Bioinformatics/H17_LungMk/Data_files/HRA001149/HRR339822 exists.\n",
            "The directory /content/drive/MyDrive/Pate_Lab/DNP/Bioinformatics/H17_LungMk/Data_files/HRA001149/HRR339817 exists.\n",
            "The directory /content/drive/MyDrive/Pate_Lab/DNP/Bioinformatics/H17_LungMk/Data_files/HRA001149/HRR339819 exists.\n",
            "The directory /content/drive/MyDrive/Pate_Lab/DNP/Bioinformatics/H17_LungMk/Data_files/HRA001149/HRR339820 exists.\n",
            "The directory /content/drive/MyDrive/Pate_Lab/DNP/Bioinformatics/H17_LungMk/Data_files/HRA001149/HRR339825 exists.\n",
            "The directory /content/drive/MyDrive/Pate_Lab/DNP/Bioinformatics/H17_LungMk/Data_files/HRA001149/HRR339818 exists.\n",
            "The directory /content/drive/MyDrive/Pate_Lab/DNP/Bioinformatics/H17_LungMk/Data_files/HRA001149/HRR339830 exists.\n",
            "The directory /content/drive/MyDrive/Pate_Lab/DNP/Bioinformatics/H17_LungMk/Data_files/HRA001149/HRR339834 exists.\n",
            "The directory /content/drive/MyDrive/Pate_Lab/DNP/Bioinformatics/H17_LungMk/Data_files/HRA001149/HRR339832 exists.\n",
            "The directory /content/drive/MyDrive/Pate_Lab/DNP/Bioinformatics/H17_LungMk/Data_files/HRA001149/HRR339835 exists.\n",
            "The directory /content/drive/MyDrive/Pate_Lab/DNP/Bioinformatics/H17_LungMk/Data_files/HRA001149/HRR339833 exists.\n",
            "The directory /content/drive/MyDrive/Pate_Lab/DNP/Bioinformatics/H17_LungMk/Data_files/HRA001149/HRR339829 exists.\n",
            "The directory /content/drive/MyDrive/Pate_Lab/DNP/Bioinformatics/H17_LungMk/Data_files/HRA001149/HRR339828 exists.\n",
            "The directory /content/drive/MyDrive/Pate_Lab/DNP/Bioinformatics/H17_LungMk/Data_files/HRA001149/HRR339826 exists.\n",
            "The directory /content/drive/MyDrive/Pate_Lab/DNP/Bioinformatics/H17_LungMk/Data_files/HRA001149/HRR339831 exists.\n",
            "The directory /content/drive/MyDrive/Pate_Lab/DNP/Bioinformatics/H17_LungMk/Data_files/HRA001149/HRR339827 exists.\n",
            "The directory /content/drive/MyDrive/Pate_Lab/DNP/Bioinformatics/H17_LungMk/Data_files/HRA001149/HRR339842 exists.\n",
            "The directory /content/drive/MyDrive/Pate_Lab/DNP/Bioinformatics/H17_LungMk/Data_files/HRA001149/HRR339840 exists.\n",
            "The directory /content/drive/MyDrive/Pate_Lab/DNP/Bioinformatics/H17_LungMk/Data_files/HRA001149/HRR339837 exists.\n",
            "The directory /content/drive/MyDrive/Pate_Lab/DNP/Bioinformatics/H17_LungMk/Data_files/HRA001149/HRR339838 exists.\n",
            "The directory /content/drive/MyDrive/Pate_Lab/DNP/Bioinformatics/H17_LungMk/Data_files/HRA001149/HRR339839 exists.\n",
            "The directory /content/drive/MyDrive/Pate_Lab/DNP/Bioinformatics/H17_LungMk/Data_files/HRA001149/HRR339836 exists.\n",
            "The directory /content/drive/MyDrive/Pate_Lab/DNP/Bioinformatics/H17_LungMk/Data_files/HRA001149/HRR339843 exists.\n",
            "The directory /content/drive/MyDrive/Pate_Lab/DNP/Bioinformatics/H17_LungMk/Data_files/HRA001149/HRR339844 exists.\n",
            "The directory /content/drive/MyDrive/Pate_Lab/DNP/Bioinformatics/H17_LungMk/Data_files/HRA001149/HRR339841 exists.\n",
            "The directory /content/drive/MyDrive/Pate_Lab/DNP/Bioinformatics/H17_LungMk/Data_files/HRA001149/HRR339846 exists.\n",
            "The directory /content/drive/MyDrive/Pate_Lab/DNP/Bioinformatics/H17_LungMk/Data_files/HRA001149/HRR339845 exists.\n",
            "The directory /content/drive/MyDrive/Pate_Lab/DNP/Bioinformatics/H17_LungMk/Data_files/HRA001149/HRR339847 exists.\n",
            "The directory /content/drive/MyDrive/Pate_Lab/DNP/Bioinformatics/H17_LungMk/Data_files/HRA001149/HRR339848 exists.\n",
            "The directory /content/drive/MyDrive/Pate_Lab/DNP/Bioinformatics/H17_LungMk/Data_files/HRA001149/HRR339849 exists.\n",
            "The directory /content/drive/MyDrive/Pate_Lab/DNP/Bioinformatics/H17_LungMk/Data_files/HRA001149/HRR339782 (1) exists.\n",
            "The directory /content/drive/MyDrive/Pate_Lab/DNP/Bioinformatics/H17_LungMk/Data_files/HRA001149/HRR339783 (1) exists.\n",
            "The directory /content/drive/MyDrive/Pate_Lab/DNP/Bioinformatics/H17_LungMk/Data_files/HRA001149/HRR339781 (1) exists.\n",
            "The directory /content/drive/MyDrive/Pate_Lab/DNP/Bioinformatics/H17_LungMk/Data_files/HRA001149/HRR339745 exists.\n",
            "The directory /content/drive/MyDrive/Pate_Lab/DNP/Bioinformatics/H17_LungMk/Data_files/HRA001149/HRR339779 exists.\n",
            "The directory /content/drive/MyDrive/Pate_Lab/DNP/Bioinformatics/H17_LungMk/Data_files/HRA001149/HRR339780 exists.\n",
            "The directory /content/drive/MyDrive/Pate_Lab/DNP/Bioinformatics/H17_LungMk/Data_files/HRA001149/HRR339785 exists.\n",
            "The directory /content/drive/MyDrive/Pate_Lab/DNP/Bioinformatics/H17_LungMk/Data_files/HRA001149/HRR339783 exists.\n",
            "The directory /content/drive/MyDrive/Pate_Lab/DNP/Bioinformatics/H17_LungMk/Data_files/HRA001149/HRR339781 exists.\n",
            "The directory /content/drive/MyDrive/Pate_Lab/DNP/Bioinformatics/H17_LungMk/Data_files/HRA001149/HRR339784 exists.\n",
            "The directory /content/drive/MyDrive/Pate_Lab/DNP/Bioinformatics/H17_LungMk/Data_files/HRA001149/HRR339782 exists.\n",
            "Processing patient HRR339728\n",
            "Filtered and normalized counts file for patient HRR339728 already exists. Skipping.\n",
            "Processing patient HRR339729\n",
            "Filtered and normalized counts file for patient HRR339729 already exists. Skipping.\n",
            "Processing patient HRR339730\n",
            "Filtered and normalized counts file for patient HRR339730 already exists. Skipping.\n",
            "Processing patient HRR339731\n",
            "Filtered and normalized counts file for patient HRR339731 already exists. Skipping.\n",
            "Processing patient HRR339732\n",
            "Filtered and normalized counts file for patient HRR339732 already exists. Skipping.\n",
            "Processing patient HRR339733\n",
            "Filtered and normalized counts file for patient HRR339733 already exists. Skipping.\n",
            "Processing patient HRR339734\n",
            "Filtered and normalized counts file for patient HRR339734 already exists. Skipping.\n",
            "Processing patient HRR339735\n",
            "Filtered and normalized counts file for patient HRR339735 already exists. Skipping.\n",
            "Processing patient HRR339736\n",
            "Filtered and normalized counts file for patient HRR339736 already exists. Skipping.\n",
            "Processing patient HRR339737\n",
            "Filtered and normalized counts file for patient HRR339737 already exists. Skipping.\n",
            "Processing patient HRR339738\n",
            "Filtered and normalized counts file for patient HRR339738 already exists. Skipping.\n",
            "Processing patient HRR339740\n",
            "Filtered and normalized counts file for patient HRR339740 already exists. Skipping.\n",
            "Processing patient HRR339739\n",
            "Filtered and normalized counts file for patient HRR339739 already exists. Skipping.\n",
            "Processing patient HRR339741\n",
            "Filtered and normalized counts file for patient HRR339741 already exists. Skipping.\n",
            "Processing patient HRR339743\n",
            "Filtered and normalized counts file for patient HRR339743 already exists. Skipping.\n",
            "Processing patient HRR339748\n",
            "Filtered and normalized counts file for patient HRR339748 already exists. Skipping.\n",
            "Processing patient HRR339753\n",
            "Filtered and normalized counts file for patient HRR339753 already exists. Skipping.\n",
            "Processing patient HRR339751\n",
            "Filtered and normalized counts file for patient HRR339751 already exists. Skipping.\n",
            "Processing patient HRR339752\n",
            "Filtered and normalized counts file for patient HRR339752 already exists. Skipping.\n",
            "Processing patient HRR339755\n",
            "Filtered and normalized counts file for patient HRR339755 already exists. Skipping.\n",
            "Processing patient HRR339756\n",
            "Initial number of cells: 95308, Initial number of genes: 60623\n",
            "Number of cells after filtering by UMI counts, detected genes, and mitochondrial gene counts: 1\n",
            "Number of cells after filtering by potential doublets: 1\n",
            "ZeroDivisionError encountered for patient data in /content/drive/MyDrive/Pate_Lab/DNP/Bioinformatics/H17_LungMk/Data_files/HRA001149/HRR339756. Skipping.\n",
            "Processing patient HRR339754\n",
            "Filtered and normalized counts file for patient HRR339754 already exists. Skipping.\n",
            "Processing patient HRR339749\n",
            "Filtered and normalized counts file for patient HRR339749 already exists. Skipping.\n",
            "Processing patient HRR339750\n",
            "Filtered and normalized counts file for patient HRR339750 already exists. Skipping.\n",
            "Processing patient HRR339742\n",
            "Filtered and normalized counts file for patient HRR339742 already exists. Skipping.\n",
            "Processing patient HRR339746\n",
            "Filtered and normalized counts file for patient HRR339746 already exists. Skipping.\n",
            "Processing patient HRR339747\n",
            "Filtered and normalized counts file for patient HRR339747 already exists. Skipping.\n",
            "Processing patient HRR339744\n",
            "Filtered and normalized counts file for patient HRR339744 already exists. Skipping.\n",
            "Processing patient HRR339759\n",
            "Filtered and normalized counts file for patient HRR339759 already exists. Skipping.\n",
            "Processing patient HRR339757\n",
            "Filtered and normalized counts file for patient HRR339757 already exists. Skipping.\n",
            "Processing patient HRR339761\n",
            "Filtered and normalized counts file for patient HRR339761 already exists. Skipping.\n",
            "Processing patient HRR339760\n",
            "Filtered and normalized counts file for patient HRR339760 already exists. Skipping.\n",
            "Processing patient HRR339762\n"
          ]
        },
        {
          "output_type": "stream",
          "name": "stderr",
          "text": [
            "/usr/local/lib/python3.10/dist-packages/scanpy/preprocessing/_simple.py:138: ImplicitModificationWarning: Trying to modify attribute `.obs` of view, initializing view as actual.\n",
            "  adata.obs['n_counts'] = number\n"
          ]
        },
        {
          "output_type": "stream",
          "name": "stdout",
          "text": [
            "Initial number of cells: 78909, Initial number of genes: 60623\n",
            "Number of cells after filtering by UMI counts, detected genes, and mitochondrial gene counts: 1\n",
            "Number of cells after filtering by potential doublets: 1\n",
            "ZeroDivisionError encountered for patient data in /content/drive/MyDrive/Pate_Lab/DNP/Bioinformatics/H17_LungMk/Data_files/HRA001149/HRR339762. Skipping.\n",
            "Processing patient HRR339765\n",
            "Filtered and normalized counts file for patient HRR339765 already exists. Skipping.\n",
            "Processing patient HRR339764\n",
            "Filtered and normalized counts file for patient HRR339764 already exists. Skipping.\n",
            "Processing patient HRR339763\n",
            "Filtered and normalized counts file for patient HRR339763 already exists. Skipping.\n",
            "Processing patient HRR339770\n",
            "File not found error encountered for patient data in /content/drive/MyDrive/Pate_Lab/DNP/Bioinformatics/H17_LungMk/Data_files/HRA001149/HRR339770. Skipping.\n",
            "Processing patient HRR339769\n",
            "File not found error encountered for patient data in /content/drive/MyDrive/Pate_Lab/DNP/Bioinformatics/H17_LungMk/Data_files/HRA001149/HRR339769. Skipping.\n",
            "Processing patient HRR339771\n",
            "File not found error encountered for patient data in /content/drive/MyDrive/Pate_Lab/DNP/Bioinformatics/H17_LungMk/Data_files/HRA001149/HRR339771. Skipping.\n",
            "Processing patient HRR339772\n",
            "File not found error encountered for patient data in /content/drive/MyDrive/Pate_Lab/DNP/Bioinformatics/H17_LungMk/Data_files/HRA001149/HRR339772. Skipping.\n",
            "Processing patient HRR339775\n",
            "File not found error encountered for patient data in /content/drive/MyDrive/Pate_Lab/DNP/Bioinformatics/H17_LungMk/Data_files/HRA001149/HRR339775. Skipping.\n",
            "Processing patient HRR339777\n",
            "File not found error encountered for patient data in /content/drive/MyDrive/Pate_Lab/DNP/Bioinformatics/H17_LungMk/Data_files/HRA001149/HRR339777. Skipping.\n",
            "Processing patient HRR339774\n",
            "File not found error encountered for patient data in /content/drive/MyDrive/Pate_Lab/DNP/Bioinformatics/H17_LungMk/Data_files/HRA001149/HRR339774. Skipping.\n",
            "Processing patient HRR339776\n",
            "File not found error encountered for patient data in /content/drive/MyDrive/Pate_Lab/DNP/Bioinformatics/H17_LungMk/Data_files/HRA001149/HRR339776. Skipping.\n",
            "Processing patient HRR339773\n",
            "File not found error encountered for patient data in /content/drive/MyDrive/Pate_Lab/DNP/Bioinformatics/H17_LungMk/Data_files/HRA001149/HRR339773. Skipping.\n",
            "Processing patient HRR339778\n",
            "File not found error encountered for patient data in /content/drive/MyDrive/Pate_Lab/DNP/Bioinformatics/H17_LungMk/Data_files/HRA001149/HRR339778. Skipping.\n",
            "Processing patient HRR339781 (2)\n",
            "File not found error encountered for patient data in /content/drive/MyDrive/Pate_Lab/DNP/Bioinformatics/H17_LungMk/Data_files/HRA001149/HRR339781 (2). Skipping.\n",
            "Processing patient HRR339782 (2)\n",
            "File not found error encountered for patient data in /content/drive/MyDrive/Pate_Lab/DNP/Bioinformatics/H17_LungMk/Data_files/HRA001149/HRR339782 (2). Skipping.\n",
            "Processing patient HRR339783 (2)\n",
            "File not found error encountered for patient data in /content/drive/MyDrive/Pate_Lab/DNP/Bioinformatics/H17_LungMk/Data_files/HRA001149/HRR339783 (2). Skipping.\n",
            "Processing patient HRR339784 (1)\n",
            "File not found error encountered for patient data in /content/drive/MyDrive/Pate_Lab/DNP/Bioinformatics/H17_LungMk/Data_files/HRA001149/HRR339784 (1). Skipping.\n",
            "Processing patient HRR339786 (1)\n",
            "File not found error encountered for patient data in /content/drive/MyDrive/Pate_Lab/DNP/Bioinformatics/H17_LungMk/Data_files/HRA001149/HRR339786 (1). Skipping.\n",
            "Processing patient HRR339785 (1)\n",
            "File not found error encountered for patient data in /content/drive/MyDrive/Pate_Lab/DNP/Bioinformatics/H17_LungMk/Data_files/HRA001149/HRR339785 (1). Skipping.\n",
            "Processing patient HRR339786\n"
          ]
        },
        {
          "output_type": "stream",
          "name": "stderr",
          "text": [
            "/usr/local/lib/python3.10/dist-packages/scanpy/preprocessing/_simple.py:138: ImplicitModificationWarning: Trying to modify attribute `.obs` of view, initializing view as actual.\n",
            "  adata.obs['n_counts'] = number\n"
          ]
        },
        {
          "output_type": "stream",
          "name": "stdout",
          "text": [
            "Initial number of cells: 94363, Initial number of genes: 60623\n",
            "Number of cells after filtering by UMI counts, detected genes, and mitochondrial gene counts: 0\n",
            "Number of cells after filtering by potential doublets: 0\n",
            "No cells remaining after filtering for patient data in /content/drive/MyDrive/Pate_Lab/DNP/Bioinformatics/H17_LungMk/Data_files/HRA001149/HRR339786. Skipping.\n",
            "Processing patient HRR339787\n"
          ]
        },
        {
          "output_type": "stream",
          "name": "stderr",
          "text": [
            "/usr/local/lib/python3.10/dist-packages/scanpy/preprocessing/_simple.py:138: ImplicitModificationWarning: Trying to modify attribute `.obs` of view, initializing view as actual.\n",
            "  adata.obs['n_counts'] = number\n"
          ]
        },
        {
          "output_type": "stream",
          "name": "stdout",
          "text": [
            "Initial number of cells: 351775, Initial number of genes: 60623\n",
            "Number of cells after filtering by UMI counts, detected genes, and mitochondrial gene counts: 6313\n"
          ]
        },
        {
          "output_type": "stream",
          "name": "stderr",
          "text": [
            "/usr/local/lib/python3.10/dist-packages/scanpy/preprocessing/_simple.py:138: ImplicitModificationWarning: Trying to modify attribute `.obs` of view, initializing view as actual.\n",
            "  adata.obs['n_counts'] = number\n"
          ]
        },
        {
          "output_type": "stream",
          "name": "stdout",
          "text": [
            "Number of cells after filtering by potential doublets: 6195\n",
            "Number of cells remaining after filtering: 6195\n",
            "Processing patient HRR339795\n",
            "Initial number of cells: 112766, Initial number of genes: 60623\n",
            "Number of cells after filtering by UMI counts, detected genes, and mitochondrial gene counts: 5\n",
            "Number of cells after filtering by potential doublets: 5\n",
            "Number of cells remaining after filtering: 5\n",
            "Processing patient HRR339766\n",
            "File not found error encountered for patient data in /content/drive/MyDrive/Pate_Lab/DNP/Bioinformatics/H17_LungMk/Data_files/HRA001149/HRR339766. Skipping.\n",
            "Processing patient HRR339767\n"
          ]
        },
        {
          "output_type": "stream",
          "name": "stderr",
          "text": [
            "/usr/local/lib/python3.10/dist-packages/scanpy/preprocessing/_simple.py:138: ImplicitModificationWarning: Trying to modify attribute `.obs` of view, initializing view as actual.\n",
            "  adata.obs['n_counts'] = number\n"
          ]
        },
        {
          "output_type": "stream",
          "name": "stdout",
          "text": [
            "Initial number of cells: 123262, Initial number of genes: 60623\n",
            "Number of cells after filtering by UMI counts, detected genes, and mitochondrial gene counts: 34\n",
            "Number of cells after filtering by potential doublets: 34\n",
            "Number of cells remaining after filtering: 34\n",
            "Processing patient HRR339768\n"
          ]
        },
        {
          "output_type": "stream",
          "name": "stderr",
          "text": [
            "/usr/local/lib/python3.10/dist-packages/scanpy/preprocessing/_simple.py:138: ImplicitModificationWarning: Trying to modify attribute `.obs` of view, initializing view as actual.\n",
            "  adata.obs['n_counts'] = number\n"
          ]
        },
        {
          "output_type": "stream",
          "name": "stdout",
          "text": [
            "Initial number of cells: 122942, Initial number of genes: 60623\n",
            "Number of cells after filtering by UMI counts, detected genes, and mitochondrial gene counts: 24\n",
            "Number of cells after filtering by potential doublets: 24\n",
            "Number of cells remaining after filtering: 24\n",
            "Processing patient HRR339790\n"
          ]
        },
        {
          "output_type": "stream",
          "name": "stderr",
          "text": [
            "/usr/local/lib/python3.10/dist-packages/scanpy/preprocessing/_simple.py:138: ImplicitModificationWarning: Trying to modify attribute `.obs` of view, initializing view as actual.\n",
            "  adata.obs['n_counts'] = number\n"
          ]
        },
        {
          "output_type": "stream",
          "name": "stdout",
          "text": [
            "Initial number of cells: 384361, Initial number of genes: 60623\n",
            "Number of cells after filtering by UMI counts, detected genes, and mitochondrial gene counts: 5411\n"
          ]
        },
        {
          "output_type": "stream",
          "name": "stderr",
          "text": [
            "/usr/local/lib/python3.10/dist-packages/scanpy/preprocessing/_simple.py:138: ImplicitModificationWarning: Trying to modify attribute `.obs` of view, initializing view as actual.\n",
            "  adata.obs['n_counts'] = number\n"
          ]
        },
        {
          "output_type": "stream",
          "name": "stdout",
          "text": [
            "Number of cells after filtering by potential doublets: 5372\n",
            "Number of cells remaining after filtering: 5372\n",
            "Processing patient HRR339791\n",
            "File not found error encountered for patient data in /content/drive/MyDrive/Pate_Lab/DNP/Bioinformatics/H17_LungMk/Data_files/HRA001149/HRR339791. Skipping.\n",
            "Processing patient HRR339792\n",
            "File not found error encountered for patient data in /content/drive/MyDrive/Pate_Lab/DNP/Bioinformatics/H17_LungMk/Data_files/HRA001149/HRR339792. Skipping.\n",
            "Processing patient HRR339789\n",
            "File not found error encountered for patient data in /content/drive/MyDrive/Pate_Lab/DNP/Bioinformatics/H17_LungMk/Data_files/HRA001149/HRR339789. Skipping.\n",
            "Processing patient HRR339788\n",
            "File not found error encountered for patient data in /content/drive/MyDrive/Pate_Lab/DNP/Bioinformatics/H17_LungMk/Data_files/HRA001149/HRR339788. Skipping.\n",
            "Processing patient HRR339758\n",
            "File not found error encountered for patient data in /content/drive/MyDrive/Pate_Lab/DNP/Bioinformatics/H17_LungMk/Data_files/HRA001149/HRR339758. Skipping.\n",
            "Processing patient HRR339794\n",
            "File not found error encountered for patient data in /content/drive/MyDrive/Pate_Lab/DNP/Bioinformatics/H17_LungMk/Data_files/HRA001149/HRR339794. Skipping.\n",
            "Processing patient HRR339793\n",
            "File not found error encountered for patient data in /content/drive/MyDrive/Pate_Lab/DNP/Bioinformatics/H17_LungMk/Data_files/HRA001149/HRR339793. Skipping.\n",
            "Processing patient HRR339805\n",
            "File not found error encountered for patient data in /content/drive/MyDrive/Pate_Lab/DNP/Bioinformatics/H17_LungMk/Data_files/HRA001149/HRR339805. Skipping.\n",
            "Processing patient HRR339801\n",
            "File not found error encountered for patient data in /content/drive/MyDrive/Pate_Lab/DNP/Bioinformatics/H17_LungMk/Data_files/HRA001149/HRR339801. Skipping.\n",
            "Processing patient HRR339802\n",
            "File not found error encountered for patient data in /content/drive/MyDrive/Pate_Lab/DNP/Bioinformatics/H17_LungMk/Data_files/HRA001149/HRR339802. Skipping.\n",
            "Processing patient HRR339799\n",
            "File not found error encountered for patient data in /content/drive/MyDrive/Pate_Lab/DNP/Bioinformatics/H17_LungMk/Data_files/HRA001149/HRR339799. Skipping.\n",
            "Processing patient HRR339804\n",
            "File not found error encountered for patient data in /content/drive/MyDrive/Pate_Lab/DNP/Bioinformatics/H17_LungMk/Data_files/HRA001149/HRR339804. Skipping.\n",
            "Processing patient HRR339803\n",
            "File not found error encountered for patient data in /content/drive/MyDrive/Pate_Lab/DNP/Bioinformatics/H17_LungMk/Data_files/HRA001149/HRR339803. Skipping.\n",
            "Processing patient HRR339798\n",
            "File not found error encountered for patient data in /content/drive/MyDrive/Pate_Lab/DNP/Bioinformatics/H17_LungMk/Data_files/HRA001149/HRR339798. Skipping.\n",
            "Processing patient HRR339797\n",
            "File not found error encountered for patient data in /content/drive/MyDrive/Pate_Lab/DNP/Bioinformatics/H17_LungMk/Data_files/HRA001149/HRR339797. Skipping.\n",
            "Processing patient HRR339796\n",
            "File not found error encountered for patient data in /content/drive/MyDrive/Pate_Lab/DNP/Bioinformatics/H17_LungMk/Data_files/HRA001149/HRR339796. Skipping.\n",
            "Processing patient HRR339800\n",
            "File not found error encountered for patient data in /content/drive/MyDrive/Pate_Lab/DNP/Bioinformatics/H17_LungMk/Data_files/HRA001149/HRR339800. Skipping.\n",
            "Processing patient HRR339808\n",
            "File not found error encountered for patient data in /content/drive/MyDrive/Pate_Lab/DNP/Bioinformatics/H17_LungMk/Data_files/HRA001149/HRR339808. Skipping.\n",
            "Processing patient HRR339806\n",
            "File not found error encountered for patient data in /content/drive/MyDrive/Pate_Lab/DNP/Bioinformatics/H17_LungMk/Data_files/HRA001149/HRR339806. Skipping.\n",
            "Processing patient HRR339815\n",
            "File not found error encountered for patient data in /content/drive/MyDrive/Pate_Lab/DNP/Bioinformatics/H17_LungMk/Data_files/HRA001149/HRR339815. Skipping.\n",
            "Processing patient HRR339812\n",
            "File not found error encountered for patient data in /content/drive/MyDrive/Pate_Lab/DNP/Bioinformatics/H17_LungMk/Data_files/HRA001149/HRR339812. Skipping.\n",
            "Processing patient HRR339811\n",
            "File not found error encountered for patient data in /content/drive/MyDrive/Pate_Lab/DNP/Bioinformatics/H17_LungMk/Data_files/HRA001149/HRR339811. Skipping.\n",
            "Processing patient HRR339814\n",
            "File not found error encountered for patient data in /content/drive/MyDrive/Pate_Lab/DNP/Bioinformatics/H17_LungMk/Data_files/HRA001149/HRR339814. Skipping.\n",
            "Processing patient HRR339807\n",
            "File not found error encountered for patient data in /content/drive/MyDrive/Pate_Lab/DNP/Bioinformatics/H17_LungMk/Data_files/HRA001149/HRR339807. Skipping.\n",
            "Processing patient HRR339813\n",
            "File not found error encountered for patient data in /content/drive/MyDrive/Pate_Lab/DNP/Bioinformatics/H17_LungMk/Data_files/HRA001149/HRR339813. Skipping.\n",
            "Processing patient HRR339810\n",
            "File not found error encountered for patient data in /content/drive/MyDrive/Pate_Lab/DNP/Bioinformatics/H17_LungMk/Data_files/HRA001149/HRR339810. Skipping.\n",
            "Processing patient HRR339809\n",
            "File not found error encountered for patient data in /content/drive/MyDrive/Pate_Lab/DNP/Bioinformatics/H17_LungMk/Data_files/HRA001149/HRR339809. Skipping.\n",
            "Processing patient HRR339816\n",
            "File not found error encountered for patient data in /content/drive/MyDrive/Pate_Lab/DNP/Bioinformatics/H17_LungMk/Data_files/HRA001149/HRR339816. Skipping.\n",
            "Processing patient HRR339824\n",
            "File not found error encountered for patient data in /content/drive/MyDrive/Pate_Lab/DNP/Bioinformatics/H17_LungMk/Data_files/HRA001149/HRR339824. Skipping.\n",
            "Processing patient HRR339821\n",
            "File not found error encountered for patient data in /content/drive/MyDrive/Pate_Lab/DNP/Bioinformatics/H17_LungMk/Data_files/HRA001149/HRR339821. Skipping.\n",
            "Processing patient HRR339823\n",
            "File not found error encountered for patient data in /content/drive/MyDrive/Pate_Lab/DNP/Bioinformatics/H17_LungMk/Data_files/HRA001149/HRR339823. Skipping.\n",
            "Processing patient HRR339822\n",
            "File not found error encountered for patient data in /content/drive/MyDrive/Pate_Lab/DNP/Bioinformatics/H17_LungMk/Data_files/HRA001149/HRR339822. Skipping.\n",
            "Processing patient HRR339817\n",
            "File not found error encountered for patient data in /content/drive/MyDrive/Pate_Lab/DNP/Bioinformatics/H17_LungMk/Data_files/HRA001149/HRR339817. Skipping.\n",
            "Processing patient HRR339819\n",
            "File not found error encountered for patient data in /content/drive/MyDrive/Pate_Lab/DNP/Bioinformatics/H17_LungMk/Data_files/HRA001149/HRR339819. Skipping.\n",
            "Processing patient HRR339820\n",
            "File not found error encountered for patient data in /content/drive/MyDrive/Pate_Lab/DNP/Bioinformatics/H17_LungMk/Data_files/HRA001149/HRR339820. Skipping.\n",
            "Processing patient HRR339825\n",
            "File not found error encountered for patient data in /content/drive/MyDrive/Pate_Lab/DNP/Bioinformatics/H17_LungMk/Data_files/HRA001149/HRR339825. Skipping.\n",
            "Processing patient HRR339818\n",
            "File not found error encountered for patient data in /content/drive/MyDrive/Pate_Lab/DNP/Bioinformatics/H17_LungMk/Data_files/HRA001149/HRR339818. Skipping.\n",
            "Processing patient HRR339830\n",
            "File not found error encountered for patient data in /content/drive/MyDrive/Pate_Lab/DNP/Bioinformatics/H17_LungMk/Data_files/HRA001149/HRR339830. Skipping.\n",
            "Processing patient HRR339834\n",
            "File not found error encountered for patient data in /content/drive/MyDrive/Pate_Lab/DNP/Bioinformatics/H17_LungMk/Data_files/HRA001149/HRR339834. Skipping.\n",
            "Processing patient HRR339832\n",
            "File not found error encountered for patient data in /content/drive/MyDrive/Pate_Lab/DNP/Bioinformatics/H17_LungMk/Data_files/HRA001149/HRR339832. Skipping.\n",
            "Processing patient HRR339835\n",
            "File not found error encountered for patient data in /content/drive/MyDrive/Pate_Lab/DNP/Bioinformatics/H17_LungMk/Data_files/HRA001149/HRR339835. Skipping.\n",
            "Processing patient HRR339833\n",
            "File not found error encountered for patient data in /content/drive/MyDrive/Pate_Lab/DNP/Bioinformatics/H17_LungMk/Data_files/HRA001149/HRR339833. Skipping.\n",
            "Processing patient HRR339829\n",
            "File not found error encountered for patient data in /content/drive/MyDrive/Pate_Lab/DNP/Bioinformatics/H17_LungMk/Data_files/HRA001149/HRR339829. Skipping.\n",
            "Processing patient HRR339828\n",
            "File not found error encountered for patient data in /content/drive/MyDrive/Pate_Lab/DNP/Bioinformatics/H17_LungMk/Data_files/HRA001149/HRR339828. Skipping.\n",
            "Processing patient HRR339826\n",
            "Initial number of cells: 60121, Initial number of genes: 60623\n",
            "Number of cells after filtering by UMI counts, detected genes, and mitochondrial gene counts: 0\n",
            "Number of cells after filtering by potential doublets: 0\n",
            "No cells remaining after filtering for patient data in /content/drive/MyDrive/Pate_Lab/DNP/Bioinformatics/H17_LungMk/Data_files/HRA001149/HRR339826. Skipping.\n",
            "Processing patient HRR339831\n"
          ]
        },
        {
          "output_type": "stream",
          "name": "stderr",
          "text": [
            "/usr/local/lib/python3.10/dist-packages/scanpy/preprocessing/_simple.py:138: ImplicitModificationWarning: Trying to modify attribute `.obs` of view, initializing view as actual.\n",
            "  adata.obs['n_counts'] = number\n"
          ]
        },
        {
          "output_type": "stream",
          "name": "stdout",
          "text": [
            "Initial number of cells: 75404, Initial number of genes: 60623\n",
            "Number of cells after filtering by UMI counts, detected genes, and mitochondrial gene counts: 0\n",
            "Number of cells after filtering by potential doublets: 0\n",
            "No cells remaining after filtering for patient data in /content/drive/MyDrive/Pate_Lab/DNP/Bioinformatics/H17_LungMk/Data_files/HRA001149/HRR339831. Skipping.\n",
            "Processing patient HRR339827\n",
            "File not found error encountered for patient data in /content/drive/MyDrive/Pate_Lab/DNP/Bioinformatics/H17_LungMk/Data_files/HRA001149/HRR339827. Skipping.\n",
            "Processing patient HRR339842\n",
            "File not found error encountered for patient data in /content/drive/MyDrive/Pate_Lab/DNP/Bioinformatics/H17_LungMk/Data_files/HRA001149/HRR339842. Skipping.\n",
            "Processing patient HRR339840\n",
            "File not found error encountered for patient data in /content/drive/MyDrive/Pate_Lab/DNP/Bioinformatics/H17_LungMk/Data_files/HRA001149/HRR339840. Skipping.\n",
            "Processing patient HRR339837\n",
            "File not found error encountered for patient data in /content/drive/MyDrive/Pate_Lab/DNP/Bioinformatics/H17_LungMk/Data_files/HRA001149/HRR339837. Skipping.\n",
            "Processing patient HRR339838\n",
            "File not found error encountered for patient data in /content/drive/MyDrive/Pate_Lab/DNP/Bioinformatics/H17_LungMk/Data_files/HRA001149/HRR339838. Skipping.\n",
            "Processing patient HRR339839\n",
            "File not found error encountered for patient data in /content/drive/MyDrive/Pate_Lab/DNP/Bioinformatics/H17_LungMk/Data_files/HRA001149/HRR339839. Skipping.\n",
            "Processing patient HRR339836\n",
            "File not found error encountered for patient data in /content/drive/MyDrive/Pate_Lab/DNP/Bioinformatics/H17_LungMk/Data_files/HRA001149/HRR339836. Skipping.\n",
            "Processing patient HRR339843\n",
            "File not found error encountered for patient data in /content/drive/MyDrive/Pate_Lab/DNP/Bioinformatics/H17_LungMk/Data_files/HRA001149/HRR339843. Skipping.\n",
            "Processing patient HRR339844\n",
            "File not found error encountered for patient data in /content/drive/MyDrive/Pate_Lab/DNP/Bioinformatics/H17_LungMk/Data_files/HRA001149/HRR339844. Skipping.\n",
            "Processing patient HRR339841\n",
            "File not found error encountered for patient data in /content/drive/MyDrive/Pate_Lab/DNP/Bioinformatics/H17_LungMk/Data_files/HRA001149/HRR339841. Skipping.\n",
            "Processing patient HRR339846\n",
            "File not found error encountered for patient data in /content/drive/MyDrive/Pate_Lab/DNP/Bioinformatics/H17_LungMk/Data_files/HRA001149/HRR339846. Skipping.\n",
            "Processing patient HRR339845\n",
            "File not found error encountered for patient data in /content/drive/MyDrive/Pate_Lab/DNP/Bioinformatics/H17_LungMk/Data_files/HRA001149/HRR339845. Skipping.\n",
            "Processing patient HRR339847\n",
            "File not found error encountered for patient data in /content/drive/MyDrive/Pate_Lab/DNP/Bioinformatics/H17_LungMk/Data_files/HRA001149/HRR339847. Skipping.\n",
            "Processing patient HRR339848\n",
            "File not found error encountered for patient data in /content/drive/MyDrive/Pate_Lab/DNP/Bioinformatics/H17_LungMk/Data_files/HRA001149/HRR339848. Skipping.\n",
            "Processing patient HRR339849\n",
            "File not found error encountered for patient data in /content/drive/MyDrive/Pate_Lab/DNP/Bioinformatics/H17_LungMk/Data_files/HRA001149/HRR339849. Skipping.\n",
            "Processing patient HRR339782 (1)\n",
            "File not found error encountered for patient data in /content/drive/MyDrive/Pate_Lab/DNP/Bioinformatics/H17_LungMk/Data_files/HRA001149/HRR339782 (1). Skipping.\n",
            "Processing patient HRR339783 (1)\n",
            "File not found error encountered for patient data in /content/drive/MyDrive/Pate_Lab/DNP/Bioinformatics/H17_LungMk/Data_files/HRA001149/HRR339783 (1). Skipping.\n",
            "Processing patient HRR339781 (1)\n",
            "File not found error encountered for patient data in /content/drive/MyDrive/Pate_Lab/DNP/Bioinformatics/H17_LungMk/Data_files/HRA001149/HRR339781 (1). Skipping.\n",
            "Processing patient HRR339745\n",
            "File not found error encountered for patient data in /content/drive/MyDrive/Pate_Lab/DNP/Bioinformatics/H17_LungMk/Data_files/HRA001149/HRR339745. Skipping.\n",
            "Processing patient HRR339779\n",
            "File not found error encountered for patient data in /content/drive/MyDrive/Pate_Lab/DNP/Bioinformatics/H17_LungMk/Data_files/HRA001149/HRR339779. Skipping.\n",
            "Processing patient HRR339780\n",
            "File not found error encountered for patient data in /content/drive/MyDrive/Pate_Lab/DNP/Bioinformatics/H17_LungMk/Data_files/HRA001149/HRR339780. Skipping.\n",
            "Processing patient HRR339785\n",
            "File not found error encountered for patient data in /content/drive/MyDrive/Pate_Lab/DNP/Bioinformatics/H17_LungMk/Data_files/HRA001149/HRR339785. Skipping.\n",
            "Processing patient HRR339783\n",
            "File not found error encountered for patient data in /content/drive/MyDrive/Pate_Lab/DNP/Bioinformatics/H17_LungMk/Data_files/HRA001149/HRR339783. Skipping.\n",
            "Processing patient HRR339781\n",
            "File not found error encountered for patient data in /content/drive/MyDrive/Pate_Lab/DNP/Bioinformatics/H17_LungMk/Data_files/HRA001149/HRR339781. Skipping.\n",
            "Processing patient HRR339784\n",
            "File not found error encountered for patient data in /content/drive/MyDrive/Pate_Lab/DNP/Bioinformatics/H17_LungMk/Data_files/HRA001149/HRR339784. Skipping.\n",
            "Processing patient HRR339782\n",
            "File not found error encountered for patient data in /content/drive/MyDrive/Pate_Lab/DNP/Bioinformatics/H17_LungMk/Data_files/HRA001149/HRR339782. Skipping.\n"
          ]
        },
        {
          "output_type": "stream",
          "name": "stderr",
          "text": [
            "/usr/local/lib/python3.10/dist-packages/scanpy/preprocessing/_simple.py:138: ImplicitModificationWarning: Trying to modify attribute `.obs` of view, initializing view as actual.\n",
            "  adata.obs['n_counts'] = number\n"
          ]
        }
      ]
    }
  ]
}