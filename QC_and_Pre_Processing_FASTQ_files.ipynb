{
  "nbformat": 4,
  "nbformat_minor": 0,
  "metadata": {
    "colab": {
      "provenance": [],
      "mount_file_id": "1P8yyHzGYVvMVDbyx0wRHjQAUg4HFXDaq",
      "authorship_tag": "ABX9TyNReH+2On/ULmTwbIBE6awY",
      "include_colab_link": true
    },
    "kernelspec": {
      "name": "python3",
      "display_name": "Python 3"
    },
    "language_info": {
      "name": "python"
    }
  },
  "cells": [
    {
      "cell_type": "markdown",
      "metadata": {
        "id": "view-in-github",
        "colab_type": "text"
      },
      "source": [
        "<a href=\"https://colab.research.google.com/github/DPariser/DataScience/blob/main/QC_and_Pre_Processing_FASTQ_files.ipynb\" target=\"_parent\"><img src=\"https://colab.research.google.com/assets/colab-badge.svg\" alt=\"Open In Colab\"/></a>"
      ]
    },
    {
      "cell_type": "markdown",
      "source": [
        "# Single-cell RNA-seq data processing\n",
        "** Information found in publication: https://www.ncbi.nlm.nih.gov/pmc/articles/PMC7857060/\n",
        "\n",
        "Single-cell sequencing data were aligned and quantified using kallisto/bustools (KB, v0.24.4) (Bray et al., 2016 [link text](https://www.nature.com/articles/nbt.3519)) against the GRCh38 human reference genome downloaded from 10x Genomics official website. Preliminary counts were then used for downstream analysis. Quality control was applied to cells based on three metrics step by step: the total UMI counts, number of detected genes and proportion of mitochondrial gene counts per cell. Specifically, cells with less than 1000 UMI counts and 500 detected genes were filtered, as well as cells with more than 10% mitochondrial gene counts. To remove potential doublets, for PBMC samples, cells with UMI counts above 25,000 and detected genes above 5,000 are filtered out. For other tissues, cells with UMI counts above\n",
        "70,000 and detected genes above 7,500 are filtered out. Additionally, we applied Scrublet (Wolock et al., 2019 [link text](https://www.ncbi.nlm.nih.gov/pmc/articles/PMC6625319/pdf/nihms-1515604.pdf)) to identify potential\n",
        "doublets. The doublet score for each single cell and the threshold based on the bimodal distribution was calculated using default\n",
        "parameters. The expected doublet rate was set to be 0.08, and cells predicted to be doublets or with doubletScore larger than  0.25 were filtered. After quality control, a total of 1,598,708 cells were remained. The stepwise quality control metrics used for indi-\n",
        "vidual samples were listed in Table S1. The resulting distribution of UMI counts, gene counts as well as mitochondrial gene percent-\n",
        "age were shown in Figures S1C–S1E. We normalized the UMI counts with the deconvolution strategy implemented in the R package scran. Specifically, cell-specific size factors were computed by computeSumFactors function and further used to scale the counts for\n",
        "each cell. Then the logarithmic normalized counts were used for the downstream analysis.\n"
      ],
      "metadata": {
        "id": "YeFTdTT6zdI9"
      }
    },
    {
      "cell_type": "code",
      "source": [
        "from google.colab import drive\n",
        "drive.mount('/content/drive')"
      ],
      "metadata": {
        "colab": {
          "base_uri": "https://localhost:8080/"
        },
        "id": "lPnAMHPv7o7X",
        "outputId": "e9330342-e889-4a7f-b031-0043b9bdce20"
      },
      "execution_count": null,
      "outputs": [
        {
          "output_type": "stream",
          "name": "stdout",
          "text": [
            "Drive already mounted at /content/drive; to attempt to forcibly remount, call drive.mount(\"/content/drive\", force_remount=True).\n"
          ]
        }
      ]
    },
    {
      "cell_type": "code",
      "source": [
        "!pip install pandas numpy scikit-learn htseq"
      ],
      "metadata": {
        "colab": {
          "base_uri": "https://localhost:8080/"
        },
        "id": "kwUkywFB73RJ",
        "outputId": "17121962-4ea0-4fe7-8a82-1e9959938a91"
      },
      "execution_count": null,
      "outputs": [
        {
          "output_type": "stream",
          "name": "stdout",
          "text": [
            "Looking in indexes: https://pypi.org/simple, https://us-python.pkg.dev/colab-wheels/public/simple/\n",
            "Requirement already satisfied: pandas in /usr/local/lib/python3.9/dist-packages (1.4.4)\n",
            "Requirement already satisfied: numpy in /usr/local/lib/python3.9/dist-packages (1.22.4)\n",
            "Requirement already satisfied: scikit-learn in /usr/local/lib/python3.9/dist-packages (1.2.2)\n",
            "Collecting htseq\n",
            "  Downloading HTSeq-2.0.2-cp39-cp39-manylinux_2_17_x86_64.manylinux2014_x86_64.whl (1.9 MB)\n",
            "\u001b[2K     \u001b[90m━━━━━━━━━━━━━━━━━━━━━━━━━━━━━━━━━━━━━━━━\u001b[0m \u001b[32m1.9/1.9 MB\u001b[0m \u001b[31m14.9 MB/s\u001b[0m eta \u001b[36m0:00:00\u001b[0m\n",
            "\u001b[?25hRequirement already satisfied: pytz>=2020.1 in /usr/local/lib/python3.9/dist-packages (from pandas) (2022.7.1)\n",
            "Requirement already satisfied: python-dateutil>=2.8.1 in /usr/local/lib/python3.9/dist-packages (from pandas) (2.8.2)\n",
            "Requirement already satisfied: scipy>=1.3.2 in /usr/local/lib/python3.9/dist-packages (from scikit-learn) (1.10.1)\n",
            "Requirement already satisfied: joblib>=1.1.1 in /usr/local/lib/python3.9/dist-packages (from scikit-learn) (1.1.1)\n",
            "Requirement already satisfied: threadpoolctl>=2.0.0 in /usr/local/lib/python3.9/dist-packages (from scikit-learn) (3.1.0)\n",
            "Collecting pysam\n",
            "  Downloading pysam-0.20.0-cp39-cp39-manylinux_2_24_x86_64.whl (15.6 MB)\n",
            "\u001b[2K     \u001b[90m━━━━━━━━━━━━━━━━━━━━━━━━━━━━━━━━━━━━━━━━\u001b[0m \u001b[32m15.6/15.6 MB\u001b[0m \u001b[31m30.5 MB/s\u001b[0m eta \u001b[36m0:00:00\u001b[0m\n",
            "\u001b[?25hRequirement already satisfied: six>=1.5 in /usr/local/lib/python3.9/dist-packages (from python-dateutil>=2.8.1->pandas) (1.15.0)\n",
            "Installing collected packages: pysam, htseq\n",
            "Successfully installed htseq-2.0.2 pysam-0.20.0\n"
          ]
        }
      ]
    },
    {
      "cell_type": "code",
      "source": [
        "# These packages are pre-installed on Google Colab, but are included here to simplify running this notebook locally\n",
        "%%capture\n",
        "!pip install matplotlib\n",
        "!pip install scikit-learn\n",
        "!pip install numpy\n",
        "!pip install scipy"
      ],
      "metadata": {
        "id": "2NPM-s4nnbl7"
      },
      "execution_count": null,
      "outputs": []
    },
    {
      "cell_type": "code",
      "source": [
        "# Install packages for analysis and plotting\n",
        "from scipy.io import mmread\n",
        "from sklearn.decomposition import TruncatedSVD\n",
        "import numpy as np\n",
        "import matplotlib.pyplot as plt\n",
        "import matplotlib\n",
        "\n",
        "from scipy.sparse import csr_matrix\n",
        "matplotlib.rcParams.update({'font.size': 22})\n",
        "%config InlineBackend.figure_format = 'retina'"
      ],
      "metadata": {
        "id": "50mANqL6ndtn"
      },
      "execution_count": null,
      "outputs": []
    },
    {
      "cell_type": "code",
      "source": [
        "%%time\n",
        "%%capture\n",
        "# `kb` is a wrapper for the kallisto and bustools program, and the kb-python package contains the kallisto and bustools executables.\n",
        "!pip install kb-python==0.24.1"
      ],
      "metadata": {
        "colab": {
          "base_uri": "https://localhost:8080/"
        },
        "id": "BqO05NrTnhmu",
        "outputId": "df386ee9-f8cd-4473-c773-893cd10141ea"
      },
      "execution_count": null,
      "outputs": [
        {
          "output_type": "stream",
          "name": "stdout",
          "text": [
            "CPU times: user 47.8 ms, sys: 18.7 ms, total: 66.5 ms\n",
            "Wall time: 4.85 s\n"
          ]
        }
      ]
    },
    {
      "cell_type": "markdown",
      "source": [
        "# Unzip Files\n",
        "For each patient there are two gz files and a .xml file the gz files include the raw sequencing files R1 refers to read 1 and R2 refers to read two, which during our later processing steps we will need to ensure that they align properly and the .xml file is the metadata information such as sample identifiers, library preparation protocols, sequencing platforms, and other relevant details."
      ],
      "metadata": {
        "id": "THtG-8My9dnt"
      }
    },
    {
      "cell_type": "code",
      "source": [
        "import gzip\n",
        "import xml.etree.ElementTree as ET\n",
        "\n",
        "# path to input files\n",
        "fastq1_gz = '/content/drive/MyDrive/Colab_Notebooks/Lung_Mk/HRR339742/HRR339742_f1.fastq.gz'\n",
        "fastq2_gz = '/content/drive/MyDrive/Colab_Notebooks/Lung_Mk/HRR339742/HRR339742_r2.fastq.gz'\n",
        "xml_gz = '/content/drive/MyDrive/Colab_Notebooks/Lung_Mk/HRR339742/HRR339742_sta.xml'\n",
        "\n",
        "# Load fastq1 data\n",
        "with gzip.open(fastq1_gz, 'rt') as f:\n",
        "    fastq1_data = f.read()\n",
        "\n",
        "# Load fastq2 data\n",
        "with gzip.open(fastq2_gz, 'rt') as f:\n",
        "    fastq2_data = f.read()\n",
        "\n",
        "# Load xml data\n",
        "with gzip.open(xml_gz, 'rt') as f:\n",
        "    xml_data = f.read()\n",
        "\n",
        "# Parse xml data\n",
        "root = ET.fromstring(xml_data)\n",
        "\n",
        "# Extract relevant data from xml\n",
        "for elem in root.iter('Analysis'):\n",
        "    analysis = elem.attrib\n",
        "for elem in root.iter('Run'):\n",
        "    run = elem.attrib\n",
        "for elem in root.iter('Sample'):\n",
        "    sample = elem.attrib\n",
        "for elem in root.iter('Library'):\n",
        "    library = elem.attrib\n",
        "for elem in root.iter('Statistics'):\n",
        "    statistics = elem.attrib\n"
      ],
      "metadata": {
        "id": "GcvpJ-g3V6w4"
      },
      "execution_count": null,
      "outputs": []
    },
    {
      "cell_type": "markdown",
      "source": [
        "# Quality Control\n",
        "## Load Long Ranger and GRCh38 Human Genome Data\n",
        "\n",
        "1.   Single-cell sequencing data were aligned and quantified using kallisto/bustools (KB, v0.24.4) (Bray et al., 2016) against the GRCh38 human reference genome downloaded from 10x Genomics official website.\n",
        "\n",
        "Install instructions can be found here: https://support.10xgenomics.com/genome-exome/software/pipelines/latest/installation\n",
        "\n",
        "Code for the GRCh38: https://support.10xgenomics.com/genome-exome/software/downloads/latest?\n",
        "\n",
        "The GRCh38 reference genome is a widely used reference genome for human sequencing because it represents the most current and accurate version of the human genome. It includes the latest updates and revisions, including new genome sequences and gene annotations, and provides improved coverage of difficult-to-sequence regions such as centromeres and telomeres. It is also used as a reference for many large-scale genomics projects, such as the Human Genome Project, the 1000 Genomes Project, and the Genotype-Tissue Expression (GTEx) project.\n"
      ],
      "metadata": {
        "id": "UIfYbAgDDphW"
      }
    },
    {
      "cell_type": "code",
      "source": [
        "!cd /opt"
      ],
      "metadata": {
        "id": "mylWmKzlMJLu"
      },
      "execution_count": null,
      "outputs": []
    },
    {
      "cell_type": "code",
      "source": [
        "# Download and unpack the Long Ranger file\n",
        "# Long Ranger - 2.2.2 (March 26, 2018)\n",
        "!wget -O longranger-2.2.2.tar.gz \"https://cf.10xgenomics.com/releases/genome/longranger-2.2.2.tar.gz?Expires=1678942097&Policy=eyJTdGF0ZW1lbnQiOlt7IlJlc291cmNlIjoiaHR0cHM6Ly9jZi4xMHhnZW5vbWljcy5jb20vcmVsZWFzZXMvZ2Vub21lL2xvbmdyYW5nZXItMi4yLjIudGFyLmd6IiwiQ29uZGl0aW9uIjp7IkRhdGVMZXNzVGhhbiI6eyJBV1M6RXBvY2hUaW1lIjoxNjc4OTQyMDk3fX19XX0_&Signature=GHLpJcQ6WIza~wstIxoVHGaEvVAPZfuCP~VbmRb6PuZzqcNMfNeViiKQfx~JpqNpEXKv-eUyDpkyapH5~eWOVDQ09irzJjwNb1JATeo-FWwGBOOVR1ps2A-eVWkDPbbHbkdi2snHKGawL1ZogGm-DRkCqqGfTiGdAh7sXYHGb-3v4eWDtKgiG6icf202HvQSM8oSnZdQftvwp20EkY0Np5M6VH16-dL3RKN0zVqn3scTRFW4gdGJwyQQep1Y8IdNVrgaxEzAM2WkWutJ0zKgTwMW9ODS1dnSQGzOaYY5NF9OWbAwE36gSffBi~Y-CJO058KmFpnrwbNkbP0ztg8HsA__&Key-Pair-Id=APKAI7S6A5RYOXBWRPDA\""
      ],
      "metadata": {
        "colab": {
          "base_uri": "https://localhost:8080/"
        },
        "id": "QoE9zjMJMLFp",
        "outputId": "9d07d39a-fb49-496c-d65f-a78a4e516272"
      },
      "execution_count": null,
      "outputs": [
        {
          "output_type": "stream",
          "name": "stdout",
          "text": [
            "--2023-03-20 15:08:04--  https://cf.10xgenomics.com/releases/genome/longranger-2.2.2.tar.gz?Expires=1678942097&Policy=eyJTdGF0ZW1lbnQiOlt7IlJlc291cmNlIjoiaHR0cHM6Ly9jZi4xMHhnZW5vbWljcy5jb20vcmVsZWFzZXMvZ2Vub21lL2xvbmdyYW5nZXItMi4yLjIudGFyLmd6IiwiQ29uZGl0aW9uIjp7IkRhdGVMZXNzVGhhbiI6eyJBV1M6RXBvY2hUaW1lIjoxNjc4OTQyMDk3fX19XX0_&Signature=GHLpJcQ6WIza~wstIxoVHGaEvVAPZfuCP~VbmRb6PuZzqcNMfNeViiKQfx~JpqNpEXKv-eUyDpkyapH5~eWOVDQ09irzJjwNb1JATeo-FWwGBOOVR1ps2A-eVWkDPbbHbkdi2snHKGawL1ZogGm-DRkCqqGfTiGdAh7sXYHGb-3v4eWDtKgiG6icf202HvQSM8oSnZdQftvwp20EkY0Np5M6VH16-dL3RKN0zVqn3scTRFW4gdGJwyQQep1Y8IdNVrgaxEzAM2WkWutJ0zKgTwMW9ODS1dnSQGzOaYY5NF9OWbAwE36gSffBi~Y-CJO058KmFpnrwbNkbP0ztg8HsA__&Key-Pair-Id=APKAI7S6A5RYOXBWRPDA\n",
            "Resolving cf.10xgenomics.com (cf.10xgenomics.com)... 104.18.0.173, 104.18.1.173, 2606:4700::6812:1ad, ...\n",
            "Connecting to cf.10xgenomics.com (cf.10xgenomics.com)|104.18.0.173|:443... connected.\n",
            "HTTP request sent, awaiting response... 403 Forbidden\n",
            "2023-03-20 15:08:04 ERROR 403: Forbidden.\n",
            "\n"
          ]
        }
      ]
    },
    {
      "cell_type": "code",
      "source": [
        "# Download and unpack the Long Ranger file\n",
        "# Long Ranger - 2.2.2 (March 26, 2018)\n",
        "!tar -xzvf longranger-2.2.2.tar.gz"
      ],
      "metadata": {
        "colab": {
          "base_uri": "https://localhost:8080/"
        },
        "id": "BEjp0vx4MOBq",
        "outputId": "0889ce82-7394-4a6f-e523-86de6788a045"
      },
      "execution_count": null,
      "outputs": [
        {
          "output_type": "stream",
          "name": "stdout",
          "text": [
            "\n",
            "gzip: stdin: unexpected end of file\n",
            "tar: Child returned status 1\n",
            "tar: Error is not recoverable: exiting now\n"
          ]
        }
      ]
    },
    {
      "cell_type": "code",
      "source": [
        "# Download and unpack the reference data file\n",
        "# GRCh38 Reference - 2.1.0 (Sep 15, 2016)\n",
        "!wget https://cf.10xgenomics.com/supp/genome/refdata-GRCh38-2.1.0.tar.gz"
      ],
      "metadata": {
        "colab": {
          "base_uri": "https://localhost:8080/"
        },
        "id": "YI5AFVdTMmCT",
        "outputId": "0ed7b14b-d18a-4a0c-a184-2322269762bb"
      },
      "execution_count": null,
      "outputs": [
        {
          "output_type": "stream",
          "name": "stdout",
          "text": [
            "--2023-03-20 15:08:04--  https://cf.10xgenomics.com/supp/genome/refdata-GRCh38-2.1.0.tar.gz\n",
            "Resolving cf.10xgenomics.com (cf.10xgenomics.com)... 104.18.0.173, 104.18.1.173, 2606:4700::6812:1ad, ...\n",
            "Connecting to cf.10xgenomics.com (cf.10xgenomics.com)|104.18.0.173|:443... connected.\n",
            "HTTP request sent, awaiting response... 200 OK\n",
            "Length: 5187997538 (4.8G) [application/x-tar]\n",
            "Saving to: ‘refdata-GRCh38-2.1.0.tar.gz’\n",
            "\n",
            "refdata-GRCh38-2.1. 100%[===================>]   4.83G  59.2MB/s    in 3m 25s  \n",
            "\n",
            "2023-03-20 15:11:30 (24.2 MB/s) - ‘refdata-GRCh38-2.1.0.tar.gz’ saved [5187997538/5187997538]\n",
            "\n"
          ]
        }
      ]
    },
    {
      "cell_type": "code",
      "source": [
        "# Download and unpack the reference data file\n",
        "# GRCh38 Reference - 2.1.0 (Sep 15, 2016)\n",
        "!tar -xzvf refdata-GRCh38-2.1.0.tar.gz"
      ],
      "metadata": {
        "colab": {
          "base_uri": "https://localhost:8080/"
        },
        "id": "KlTyfnB7MeWy",
        "outputId": "1b7c49c7-1596-4e58-ca9d-ae2bbe298a1b"
      },
      "execution_count": null,
      "outputs": [
        {
          "output_type": "stream",
          "name": "stdout",
          "text": [
            "refdata-GRCh38-2.1.0/\n",
            "refdata-GRCh38-2.1.0/version\n",
            "refdata-GRCh38-2.1.0/README.BEFORE.MODIFYING\n",
            "refdata-GRCh38-2.1.0/fasta/\n",
            "refdata-GRCh38-2.1.0/fasta/genome.dict\n",
            "refdata-GRCh38-2.1.0/fasta/genome.fa\n",
            "refdata-GRCh38-2.1.0/fasta/genome.fa.amb\n",
            "refdata-GRCh38-2.1.0/fasta/genome.fa.ann\n",
            "refdata-GRCh38-2.1.0/fasta/genome.fa.bwt\n",
            "refdata-GRCh38-2.1.0/fasta/genome.fa.fai\n",
            "refdata-GRCh38-2.1.0/fasta/genome.fa.flat\n",
            "refdata-GRCh38-2.1.0/fasta/genome.fa.gdx\n",
            "refdata-GRCh38-2.1.0/fasta/genome.fa.pac\n",
            "refdata-GRCh38-2.1.0/fasta/genome.fa.sa\n",
            "refdata-GRCh38-2.1.0/fasta/primary_contigs.txt\n",
            "refdata-GRCh38-2.1.0/fasta/sex_chromosomes.tsv\n",
            "refdata-GRCh38-2.1.0/genes/\n",
            "refdata-GRCh38-2.1.0/genes/gene_annotations.gtf.gz\n",
            "refdata-GRCh38-2.1.0/genome\n",
            "refdata-GRCh38-2.1.0/regions/\n",
            "refdata-GRCh38-2.1.0/regions/centromeres.tsv\n",
            "refdata-GRCh38-2.1.0/snps/\n"
          ]
        }
      ]
    },
    {
      "cell_type": "code",
      "source": [
        "# Prepend the Long Ranger directory to your $PATH. This will allow you to invoke the longranger commands.\n",
        "!export PATH=/opt/longranger-2.2.2:$PATH"
      ],
      "metadata": {
        "id": "0k0zitHRNXaW"
      },
      "execution_count": null,
      "outputs": []
    },
    {
      "cell_type": "code",
      "source": [
        "# Site check\n",
        "# Next, please run the bundled site check script and send the output to 10x. We will review the information to ensure that Long Ranger will run smoothly once you have generated your own Chromium data. Assuming you have installed and entered the 10x environment as described above, please run the following commands:\n",
        "!longranger sitecheck > sitecheck.txt\n",
        "!longranger upload dpariser@mit.edu sitecheck.txt"
      ],
      "metadata": {
        "colab": {
          "base_uri": "https://localhost:8080/"
        },
        "id": "efNQzfoLNo-1",
        "outputId": "9ab64019-917c-48dd-f834-e00e5caa0864"
      },
      "execution_count": null,
      "outputs": [
        {
          "output_type": "stream",
          "name": "stdout",
          "text": [
            "/bin/bash: longranger: command not found\n",
            "/bin/bash: longranger: command not found\n"
          ]
        }
      ]
    },
    {
      "cell_type": "code",
      "source": [
        "# Verify Installation\n",
        "# To ensure that the longranger pipeline is installed correctly, use longranger testrun. This test can take up to 60 minutes on a sixteen-core workstation. Assuming you have installed Long Ranger into /opt, the command to run the test would look like:\n",
        "!export PATH=/opt/longranger-2.2.2:$PATH\n",
        "!longranger testrun --id=tiny"
      ],
      "metadata": {
        "colab": {
          "base_uri": "https://localhost:8080/"
        },
        "id": "XR-LAX6wOG9H",
        "outputId": "ad71bf49-aa1b-4561-c7ad-d021ac99a441"
      },
      "execution_count": null,
      "outputs": [
        {
          "output_type": "stream",
          "name": "stdout",
          "text": [
            "/bin/bash: longranger: command not found\n"
          ]
        }
      ]
    },
    {
      "cell_type": "code",
      "source": [
        "!longranger upload dpariser@mit.edu tiny/tiny.mri.tgz"
      ],
      "metadata": {
        "colab": {
          "base_uri": "https://localhost:8080/"
        },
        "id": "U1Urki5ZOVzV",
        "outputId": "8411e14a-7579-47df-aeb6-ca7a82fb360a"
      },
      "execution_count": null,
      "outputs": [
        {
          "output_type": "stream",
          "name": "stdout",
          "text": [
            "/bin/bash: longranger: command not found\n"
          ]
        }
      ]
    },
    {
      "cell_type": "markdown",
      "source": [
        "## Aligning and quantifying using kallisto/bustool\n",
        "\n",
        "Kallisto is a program for quantifying abundances of transcripts from RNA-Seq data, which uses a novel idea of pseudoalignment for fast and accurate quantification of transcript abundances from RNA-Seq data. Kallisto can quantify expression levels of genes, transcripts, and isoforms. Kallisto generates an index from the reference transcriptome that allows fast pseudoalignment of RNA-Seq reads, followed by generation of gene- and transcript-level counts.\n",
        "\n",
        "Bustools is a set of tools for analyzing BUS files generated by kallisto. BUS files contain information about which barcodes were detected in which transcript and how many UMIs were associated with each barcode-transcript pair. Bustools can be used to correct and sort the barcode and UMI information in the BUS file, filter out low-quality reads and barcodes, count the number of unique molecular identifiers (UMIs) associated with each gene or transcript, and perform other downstream analyses.\n",
        "\n",
        "We will need to reference the GRCh38 Human Genome here to align it to our sequencing data"
      ],
      "metadata": {
        "id": "OzOfbL9lT9qs"
      }
    },
    {
      "cell_type": "code",
      "source": [
        "# Check kb-python version\n",
        "!kb version"
      ],
      "metadata": {
        "colab": {
          "base_uri": "https://localhost:8080/"
        },
        "id": "kWpiN3l7l9-K",
        "outputId": "b4b17e8c-54e2-45b4-917b-5281722656e5"
      },
      "execution_count": null,
      "outputs": [
        {
          "output_type": "stream",
          "name": "stdout",
          "text": [
            "usage: kb\n",
            "       [-h]\n",
            "       [--list]\n",
            "       <CMD>\n",
            "       ...\n",
            "\n",
            "kb_python\n",
            "0.24.1\n",
            "\n",
            "positional arguments:\n",
            "  <CMD>\n",
            "    info\n",
            "    Display\n",
            "    package and\n",
            "    citation\n",
            "    information\n",
            "    ref\n",
            "    Build a\n",
            "    kallisto\n",
            "    index and\n",
            "    transcript-\n",
            "    to-gene\n",
            "    mapping\n",
            "    count\n",
            "    Generate\n",
            "    count\n",
            "    matrices\n",
            "    from a set\n",
            "    of single-\n",
            "    cell FASTQ\n",
            "    files\n",
            "\n",
            "optional arguments:\n",
            "  -h, --help\n",
            "    Show this\n",
            "    help\n",
            "    message and\n",
            "    exit\n",
            "  --list\n",
            "    Display\n",
            "    list of\n",
            "    supported\n",
            "    single-cell\n",
            "    technologie\n",
            "    s\n"
          ]
        }
      ]
    },
    {
      "cell_type": "markdown",
      "source": [
        "Kallisto information\n",
        "\n",
        "\n",
        "*   https://github.com/pachterlab/kallisto\n",
        "*   http://pachterlab.github.io/kallisto/manual.html\n",
        "*   https://colab.research.google.com/github/pachterlab/kallistobustools/blob/master/docs/tutorials/kb_quality_control/python/kb_intro_1_python.ipynb#scrollTo=x79Inh3LnnMj\n",
        "\n"
      ],
      "metadata": {
        "id": "AekcfAAf-wgS"
      }
    },
    {
      "cell_type": "code",
      "source": [
        "# Create the index file for Kallisto\n",
        "!kb ref \\\n",
        "  -i index.idx \\\n",
        "  -g transcript-to-gene.tsv \\\n",
        "  -f1 refdata-GRCh38-2.1.0/fasta/genome.fa \\\n",
        "  -f2 refdata-GRCh38-2.1.0/fasta/genome_with_contigs.fa \\\n",
        "  -c1 refdata-GRCh38-2.1.0/cellranger-tiny-bcl-1.2.0/transcriptome-annotation.csv \\\n",
        "  -c2 refdata-GRCh38-2.1.0/cellranger-tiny-bcl-1.2.0/molecule-info.csv \\\n",
        "  refdata-GRCh38-2.1.0/fasta/genome.fa \\\n",
        "  refdata-GRCh38-2.1.0/genes/gene_annotations.gtf.gz"
      ],
      "metadata": {
        "colab": {
          "base_uri": "https://localhost:8080/"
        },
        "id": "J02gb7QhgSNR",
        "outputId": "b75fa247-5536-48f1-b784-74d77ad8eaa8"
      },
      "execution_count": null,
      "outputs": [
        {
          "output_type": "stream",
          "name": "stdout",
          "text": [
            "[2023-03-21 00:15:41,273]    INFO Creating transcript-to-gene mapping at transcript-to-gene.tsv\n",
            "[2023-03-21 00:16:49,048]    INFO Sorting refdata-GRCh38-2.1.0/fasta/genome.fa\n",
            "[2023-03-21 00:24:41,315]    INFO Sorting refdata-GRCh38-2.1.0/genes/gene_annotations.gtf.gz\n"
          ]
        }
      ]
    },
    {
      "cell_type": "code",
      "source": [
        "# download the GRCh38 Index file\n",
        "from google.colab import files\n",
        "files.download('index.idx')"
      ],
      "metadata": {
        "id": "IWLlsEnuikBc"
      },
      "execution_count": null,
      "outputs": []
    },
    {
      "cell_type": "code",
      "source": [
        "# !wget https://github.com/pachterlab/kallisto/releases/download/v0.46.2/kallisto_linux-v0.46.2.tar.gz\n",
        "# !tar -zxvf kallisto_linux-v0.46.2.tar.gz\n",
        "# !mv kallisto /usr/local/bin/"
      ],
      "metadata": {
        "id": "0TnJNKpox_Nx"
      },
      "execution_count": null,
      "outputs": []
    },
    {
      "cell_type": "code",
      "source": [
        "# !git clone https://github.com/BUStools/bustools\n",
        "# !cd bustools && ./compile.sh\n",
        "# !mv bustools /usr/local/bin/"
      ],
      "metadata": {
        "id": "14DdSPFUyT6x"
      },
      "execution_count": null,
      "outputs": []
    },
    {
      "cell_type": "code",
      "source": [
        "#!sudo apt-get install kallisto"
      ],
      "metadata": {
        "id": "X6gWm1Q_Fjt7"
      },
      "execution_count": null,
      "outputs": []
    },
    {
      "cell_type": "code",
      "source": [
        "#!git clone https://github.com/BUStools/bustools.git\n",
        "#!cd bustools && ./compile.sh"
      ],
      "metadata": {
        "id": "3gQSU3LNWkMz"
      },
      "execution_count": null,
      "outputs": []
    },
    {
      "cell_type": "code",
      "source": [
        "#!wget -c https://repo.anaconda.com/archive/Anaconda3-2021.11-Linux-x86_64.sh\n",
        "#!chmod +x Anaconda3-2021.11-Linux-x86_64.sh\n",
        "#!bash ./Anaconda3-2021.11-Linux-x86_64.sh -b -f -p /usr/local"
      ],
      "metadata": {
        "id": "i0B3PLNphQu3"
      },
      "execution_count": null,
      "outputs": []
    },
    {
      "cell_type": "code",
      "source": [
        "#!conda install -c bioconda bustools -y"
      ],
      "metadata": {
        "id": "JdXRRCj_hVPj"
      },
      "execution_count": null,
      "outputs": []
    },
    {
      "cell_type": "markdown",
      "source": [
        "https://github.com/BUStools/bustools/releases"
      ],
      "metadata": {
        "id": "5pqCZSvDlXQV"
      }
    },
    {
      "cell_type": "code",
      "source": [
        "# Align reads to the reference genome using kallisto\n",
        "!kallisto bus -i /content/refdata-gex-GRCh38-2020-A/kallisto_index.idx -o output/ -x 10xv3 -t 2 /content/drive/MyDrive/Colab_Notebooks/Lung_Mk/HRR339742_f1.fastq /content/drive/MyDrive/Colab_Notebooks/Lung_Mk/HRR339742_f2.fastq\n",
        "\n",
        "# Correct and sort the barcode and UMIs & generates a matrics with UMI counts/gene for each barcode in the sorted BUS file\n",
        "!bustools correct -w /content/refdata-gex-GRCh38-2020-A/10xv3_whitelist.txt -p output/output.bus | bust\n"
      ],
      "metadata": {
        "colab": {
          "base_uri": "https://localhost:8080/"
        },
        "id": "rlhsYxN1XRC0",
        "outputId": "25c23155-dfac-4dac-b6c7-2bedb82e5125"
      },
      "execution_count": null,
      "outputs": [
        {
          "output_type": "stream",
          "name": "stdout",
          "text": [
            "Found existing installation: kallisto 1.0.9\n",
            "Uninstalling kallisto-1.0.9:\n",
            "  Would remove:\n",
            "    /usr/local/lib/python3.9/dist-packages/kallisto-1.0.9.dist-info/*\n",
            "    /usr/local/lib/python3.9/dist-packages/kallisto/*\n",
            "Proceed (Y/n)? Y\n",
            "  Successfully uninstalled kallisto-1.0.9\n",
            "Found existing installation: bustools 0.1.0.dev2\n",
            "Uninstalling bustools-0.1.0.dev2:\n",
            "  Would remove:\n",
            "    /usr/local/lib/python3.9/dist-packages/bustools-0.1.0.dev2.dist-info/*\n",
            "    /usr/local/lib/python3.9/dist-packages/bustools/*\n",
            "Proceed (Y/n)? Y\n",
            "  Successfully uninstalled bustools-0.1.0.dev2\n",
            "Looking in indexes: https://pypi.org/simple, https://us-python.pkg.dev/colab-wheels/public/simple/\n",
            "Collecting kallisto\n",
            "  Using cached kallisto-1.0.9-py3-none-any.whl (104 kB)\n",
            "Requirement already satisfied: scipy==1.9.2 in /usr/local/lib/python3.9/dist-packages (from kallisto) (1.9.2)\n",
            "Requirement already satisfied: numpy<2.0.0,>=1.19.0 in /usr/local/lib/python3.9/dist-packages (from kallisto) (1.22.4)\n",
            "Requirement already satisfied: click<9.0.0,>=8.0.0 in /usr/local/lib/python3.9/dist-packages (from kallisto) (8.1.3)\n",
            "Installing collected packages: kallisto\n",
            "\u001b[31mERROR: Could not install packages due to an OSError: [Errno 21] Is a directory: '/usr/local/bin/kallisto'\n",
            "\u001b[0m\u001b[31m\n",
            "\u001b[0mLooking in indexes: https://pypi.org/simple, https://us-python.pkg.dev/colab-wheels/public/simple/\n",
            "Collecting bustools\n",
            "  Using cached bustools-0.1.0.dev2-py3-none-any.whl\n",
            "Installing collected packages: bustools\n",
            "Successfully installed bustools-0.1.0.dev2\n",
            "/bin/bash: kallisto: command not found\n",
            "/bin/bash: bust: command not found\n",
            "/bin/bash: bustools: command not found\n"
          ]
        }
      ]
    },
    {
      "cell_type": "markdown",
      "source": [
        "## Filtering cells based on count\n",
        "Preliminary counts were then used for downstream analysis. Quality control was applied to cells based on three metrics step by step: the total UMI counts, number of detected genes and proportion of mitochondrial gene counts per cell. Specifically, cells with less than 1500 UMI counts and 500 detected genes were filtered, as well as cells with more than 10% mitochondrial gene counts. "
      ],
      "metadata": {
        "id": "KXj1wSfjL1Be"
      }
    },
    {
      "cell_type": "code",
      "source": [
        "import pandas as pd\n",
        "\n",
        "# Load the output from bustools count\n",
        "matrix = pd.read_csv(\"output/counts/bus_output/output.bus.count.txt\", sep=\"\\t\", index_col=0, header=None, skiprows=1)\n",
        "\n",
        "# Calculate the total UMI counts and number of detected genes per cell\n",
        "umi_counts = matrix.sum(axis=1)\n",
        "gene_counts = (matrix > 0).sum(axis=1)\n",
        "\n",
        "# Load the gene annotation file\n",
        "genes = pd.read_csv(\"refdata-gex-GRCh38-2020-A/genes/genes.gtf\", sep=\"\\t\", comment=\"#\", header=None) # change this to .xml rather than GRCh38\n",
        "\n",
        "# Extract mitochondrial gene names\n",
        "mito_genes = genes[genes[0] == \"MT\"][8].str.extract(r'gene_name \"(.+?)\"', expand=False)\n",
        "\n",
        "# Calculate the proportion of mitochondrial gene counts per cell\n",
        "mito_counts = matrix[matrix.index.isin(mito_genes)].sum(axis=0)\n",
        "mito_prop = mito_counts / umi_counts\n",
        "\n",
        "# Filter cells with less than 1500 UMI counts, less than 500 detected genes, or more than 10% mitochondrial gene counts\n",
        "cells_to_keep = (umi_counts >= 1500) & (gene_counts >= 500) & (mito_prop <= 0.1)\n",
        "filtered_matrix = matrix[cells_to_keep]\n",
        "\n",
        "# Calculate total UMI counts and number of detected genes for the filtered matrix\n",
        "filtered_umi_counts = filtered_matrix.sum(axis=1)\n",
        "filtered_gene_counts = (filtered_matrix > 0).sum(axis=1)\n"
      ],
      "metadata": {
        "id": "k5VM7KeSM8tg"
      },
      "execution_count": null,
      "outputs": []
    },
    {
      "cell_type": "markdown",
      "source": [
        "## Remove potential doublets (double balloon effect)\n",
        "\n",
        "This is what the investigators did in the original paper:\n",
        "\n",
        "\n",
        "*   To remove potential doublets, for PBMC samples, cells with UMI counts above 25,000 and detected genes above 5,000 are filtered out. For other tissues, cells with UMI counts above 70,000 and detected genes above 7,500 are filtered out. Additionally, we applied Scrublet (Wolock et al., 2019 link text) to identify potential doublets. The doublet score for each single cell and the threshold based on the bimodal distribution was calculated using default parameters. The expected doublet rate was set to be 0.08, and cells predicted to be doublets or with doubletScore larger than 0.25 were filtered. After quality control, a total of 1,598,708 cells were remained.\n",
        "*   for now we will not be using onliy the PBMC filter methods applied to all tissues\n",
        "*  *We may revisit this later*\n",
        "\n"
      ],
      "metadata": {
        "id": "HyyFuqrwM7bO"
      }
    },
    {
      "cell_type": "code",
      "source": [
        "import pandas as pd\n",
        "import xml.etree.ElementTree as ET\n",
        "\n",
        "# Load the count matrix\n",
        "counts = pd.read_csv(\"output/counts/bus_output/output.bus.count.txt\", index_col=0)\n",
        "\n",
        "# Load the metadata file from the XML\n",
        "xml_tree = ET.parse('/content/drive/MyDrive/Colab_Notebooks/Lung_Mk/HRR339742/HRR339742_sta.xml')\n",
        "root = xml_tree.getroot()\n",
        "metadata_dict = {}\n",
        "for child in root.iter():\n",
        "    metadata_dict[child.tag] = child.text\n",
        "metadata = pd.DataFrame([metadata_dict])\n",
        "\n",
        "# Determine the filtering thresholds\n",
        "umi_threshold = 25000\n",
        "gene_threshold = 5000\n",
        "\n",
        "# Compute the UMI counts and number of detected genes for each cell\n",
        "umi_counts = counts.sum(axis=0)\n",
        "detected_genes = (counts > 0).sum(axis=0)\n",
        "\n",
        "# Filter out cells with UMI counts or detected genes above the thresholds\n",
        "mask = (umi_counts <= umi_threshold) & (detected_genes <= gene_threshold)\n",
        "filtered_counts = counts.loc[:, mask]\n",
        "\n",
        "# Print some statistics about the filtering\n",
        "print(\"Before filtering:\")\n",
        "print(f\"Number of cells: {counts.shape[1]}\")\n",
        "print(f\"Max UMI count: {umi_counts.max()}\")\n",
        "print(f\"Max detected genes: {detected_genes.max()}\")\n",
        "print(\"\")\n",
        "print(\"After filtering:\")\n",
        "print(f\"Number of cells: {filtered_counts.shape[1]}\")\n",
        "print(f\"Max UMI count: {filtered_counts.sum(axis=0).max()}\")\n",
        "print(f\"Max detected genes: {(filtered_counts > 0).sum(axis=0).max()}\")"
      ],
      "metadata": {
        "id": "b0BEKvF9TtEJ"
      },
      "execution_count": null,
      "outputs": []
    },
    {
      "cell_type": "markdown",
      "source": [
        "## Data visualization\n",
        "\n",
        "The stepwise quality control metrics used for individual samples were listed in Table S1. The resulting distribution of UMI counts, gene counts as well as mitochondrial gene percent- age were shown in Figures S1C–S1E. "
      ],
      "metadata": {
        "id": "1gQjLWW5Q_LZ"
      }
    },
    {
      "cell_type": "code",
      "source": [
        "import seaborn as sns\n",
        "import matplotlib.pyplot as plt\n",
        "\n",
        "# Load the count matrix\n",
        "counts = pd.read_csv(\"output/counts/bus_output/output.bus.count.txt\", sep=\"\\t\", index_col=0)\n",
        "\n",
        "# Load the gene annotation file from the metadata XML\n",
        "metadata = pd.read_xml(\"/content/drive/MyDrive/Colab_Notebooks/Lung_Mk/HRR339742/HRR339742_sta.xml\")\n",
        "genes = pd.DataFrame(metadata[\"transcript\"].apply(lambda x: x.get(\"gene_name\")).unique(), columns=[\"gene_name\"])\n",
        "\n",
        "# Identify mitochondrial genes\n",
        "mito_genes = genes[genes[\"gene_name\"].str.startswith(\"MT-\")].index\n",
        "mito_counts = counts.loc[mito_genes].sum(axis=0)\n",
        "total_counts = counts.sum(axis=0)\n",
        "mito_percentage = mito_counts / total_counts * 100\n",
        "\n",
        "# Compute the UMI counts and number of detected genes for each cell\n",
        "umi_counts = counts.sum(axis=0)\n",
        "detected_genes = (counts > 0).sum(axis=0)\n",
        "\n",
        "# Plot the distribution of UMI counts, detected genes, and mitochondrial gene percentage\n",
        "fig, axes = plt.subplots(ncols=3, figsize=(15,5))\n",
        "sns.histplot(umi_counts, ax=axes[0])\n",
        "sns.histplot(detected_genes, ax=axes[1])\n",
        "sns.histplot(mito_percentage, ax=axes[2])\n",
        "axes[0].set_xlabel(\"UMI counts\")\n",
        "axes[1].set_xlabel(\"Number of detected genes\")\n",
        "axes[2].set_xlabel(\"Mitochondrial gene percentage\")\n",
        "plt.show()\n",
        "\n",
        "# before and after plots"
      ],
      "metadata": {
        "id": "fsCkkdIfYxeL"
      },
      "execution_count": null,
      "outputs": []
    },
    {
      "cell_type": "markdown",
      "source": [
        "## Normaliazed UMI counts\n",
        "\n",
        "This is what the paper did:\n",
        "\n",
        "*  We normalized the UMI counts with the deconvolution strategy implemented in the  R package scran. Specifically, cell-specific size factors were computed by computeSumFactors function and further used to scale the counts for each cell. Then the logarithmic normalized counts were used for the downstream analysis.\n",
        "*  We can use Scnapy instead"
      ],
      "metadata": {
        "id": "MIJHMVG4RE2C"
      }
    },
    {
      "cell_type": "code",
      "source": [
        "import scanpy as sc\n",
        "\n",
        "# Load the count matrix\n",
        "adata = sc.read_text(\"output/counts/bus_output/output.bus.count.txt\", delimiter=\"\\t\").T\n",
        "\n",
        "# Normalize the data using Total Count Normalization (TCN)\n",
        "sc.pp.normalize_total(adata, target_sum=1e4)\n",
        "\n",
        "# Scale the data by cell-specific size factors\n",
        "sc.pp.scale(adata, max_value=10)\n",
        "\n",
        "# Logarithmically transform the data\n",
        "sc.pp.log1p(adata)"
      ],
      "metadata": {
        "id": "4ikVS2sIZ3df"
      },
      "execution_count": null,
      "outputs": []
    },
    {
      "cell_type": "markdown",
      "source": [
        "For normalization of UMI counts, the Scanpy package provides several normalization methods, including the Total Count Normalization (TCN) and Normalization by Logarithm (LogNormalize) methods, which are commonly used in single-cell RNA-seq analysis. Here, we first load the count matrix using Scanpy's read_text function. We then normalize the data using the normalize_total function, which scales the counts for each cell so that they have the same total count (in this case, 10,000). We then scale the data by cell-specific size factors using the scale function, and logarithmically transform the data using the log1p function.\n",
        "\n"
      ],
      "metadata": {
        "id": "u0wzvjhVaybY"
      }
    }
  ]
}